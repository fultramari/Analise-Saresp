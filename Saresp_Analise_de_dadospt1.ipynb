{
  "nbformat": 4,
  "nbformat_minor": 0,
  "metadata": {
    "colab": {
      "provenance": [],
      "authorship_tag": "ABX9TyO+juHEAiLpPbIsijguF2ie",
      "include_colab_link": true
    },
    "kernelspec": {
      "name": "python3",
      "display_name": "Python 3"
    },
    "language_info": {
      "name": "python"
    }
  },
  "cells": [
    {
      "cell_type": "markdown",
      "metadata": {
        "id": "view-in-github",
        "colab_type": "text"
      },
      "source": [
        "<a href=\"https://colab.research.google.com/github/fultramari/Analise-Saresp/blob/main/Saresp_Analise_de_dadospt1.ipynb\" target=\"_parent\"><img src=\"https://colab.research.google.com/assets/colab-badge.svg\" alt=\"Open In Colab\"/></a>"
      ]
    },
    {
      "cell_type": "code",
      "execution_count": null,
      "metadata": {
        "id": "mlzHMx7Di0oi"
      },
      "outputs": [],
      "source": [
        "from sys import displayhook\n",
        "import numpy as np\n",
        "import pandas as pd\n",
        "import matplotlib.pyplot as plt\n",
        "import scipy.stats\n",
        "from statsmodels.graphics.gofplots import qqplot\n",
        "\n",
        "tabela = pd.read_csv(\"planilha.csv.csv\") #1 linha = 1 aluno\n",
        "display(tabela)\n",
        "# Retornou 457915 linhas.  457915 Alunos foram convocados para o exame\n"
      ]
    },
    {
      "cell_type": "code",
      "source": [
        "presentes = tabela.loc[tabela[\"REALIZOU O EXAME (S=1, N=0)\"] == 1]\n",
        "display(presentes)\n",
        "#Retornou 353.092 linhas. 353.092 alunos realizaram o exame (77,11%)\n"
      ],
      "metadata": {
        "id": "IM4l_KdKaATw"
      },
      "execution_count": null,
      "outputs": []
    },
    {
      "cell_type": "code",
      "source": [
        "faltas = tabela[tabela[\"REALIZOU O EXAME (S=1, N=0)\"] == 0]\n",
        "display(faltas)\n",
        "# Retornou 104823 linhas. 104.823 alunos não realizaram o exame.(22,89%)"
      ],
      "metadata": {
        "id": "y9wbl63faG7u"
      },
      "execution_count": null,
      "outputs": []
    },
    {
      "cell_type": "code",
      "source": [
        "terceirao = presentes.loc[presentes[\"SERIE/ANO\"] == \"EM-3ª série\"]\n",
        "display(terceirao)\n",
        "#140.615 alunos que fizeram a prova eram do terceirão."
      ],
      "metadata": {
        "id": "hJuyOA3AVGvY",
        "colab": {
          "base_uri": "https://localhost:8080/",
          "height": 659
        },
        "outputId": "b5769d08-4789-467e-9daf-ca3dee0cfeac",
        "collapsed": true
      },
      "execution_count": null,
      "outputs": [
        {
          "output_type": "display_data",
          "data": {
            "text/plain": [
              "          SERIE/ANO PERÍODO SEXO  REALIZOU O EXAME (S=1, N=0)  \\\n",
              "1       EM-3ª série   NOITE    F                            1   \n",
              "7       EM-3ª série   MANHÃ    F                            1   \n",
              "10      EM-3ª série   MANHÃ    M                            1   \n",
              "11      EM-3ª série   MANHÃ    M                            1   \n",
              "12      EM-3ª série   MANHÃ    F                            1   \n",
              "...             ...     ...  ...                          ...   \n",
              "457890  EM-3ª série   TARDE    M                            1   \n",
              "457891  EM-3ª série   MANHÃ    F                            1   \n",
              "457897  EM-3ª série   NOITE    F                            1   \n",
              "457901  EM-3ª série   MANHÃ    F                            1   \n",
              "457903  EM-3ª série   MANHÃ    F                            1   \n",
              "\n",
              "        ACERTOS (Total de questões: 24)  PORCENTAGEM DE ACERTOS  \\\n",
              "1                                  14.0                    58.3   \n",
              "7                                  14.0                    58.3   \n",
              "10                                  5.0                    20.8   \n",
              "11                                  3.0                    12.5   \n",
              "12                                  5.0                    20.8   \n",
              "...                                 ...                     ...   \n",
              "457890                              6.0                    25.0   \n",
              "457891                             11.0                    45.8   \n",
              "457897                             10.0                    41.7   \n",
              "457901                              6.0                    25.0   \n",
              "457903                             10.0                    41.7   \n",
              "\n",
              "                  STATUS CLASSIFICAÇÃO  \\\n",
              "1                 Básico    Suficiente   \n",
              "7                 Básico    Suficiente   \n",
              "10      Abaixo do Básico  Insuficiente   \n",
              "11      Abaixo do Básico  Insuficiente   \n",
              "12      Abaixo do Básico  Insuficiente   \n",
              "...                  ...           ...   \n",
              "457890  Abaixo do Básico  Insuficiente   \n",
              "457891            Básico    Suficiente   \n",
              "457897  Abaixo do Básico  Insuficiente   \n",
              "457901  Abaixo do Básico  Insuficiente   \n",
              "457903  Abaixo do Básico  Insuficiente   \n",
              "\n",
              "               REGIÃO METROPOLITANA DE SÃO PAULO  \n",
              "1       Região Metropolitana da Baixada Santista  \n",
              "7                                       Interior  \n",
              "10                                      Interior  \n",
              "11                                      Interior  \n",
              "12      Região Metropolitana da Baixada Santista  \n",
              "...                                          ...  \n",
              "457890                                  Interior  \n",
              "457891         Região Metropolitana de São Paulo  \n",
              "457897                                  Interior  \n",
              "457901         Região Metropolitana de São Paulo  \n",
              "457903         Região Metropolitana de São Paulo  \n",
              "\n",
              "[140615 rows x 9 columns]"
            ],
            "text/html": [
              "\n",
              "  <div id=\"df-cf9ed346-99ed-4954-81b6-2f12c2cccd86\">\n",
              "    <div class=\"colab-df-container\">\n",
              "      <div>\n",
              "<style scoped>\n",
              "    .dataframe tbody tr th:only-of-type {\n",
              "        vertical-align: middle;\n",
              "    }\n",
              "\n",
              "    .dataframe tbody tr th {\n",
              "        vertical-align: top;\n",
              "    }\n",
              "\n",
              "    .dataframe thead th {\n",
              "        text-align: right;\n",
              "    }\n",
              "</style>\n",
              "<table border=\"1\" class=\"dataframe\">\n",
              "  <thead>\n",
              "    <tr style=\"text-align: right;\">\n",
              "      <th></th>\n",
              "      <th>SERIE/ANO</th>\n",
              "      <th>PERÍODO</th>\n",
              "      <th>SEXO</th>\n",
              "      <th>REALIZOU O EXAME (S=1, N=0)</th>\n",
              "      <th>ACERTOS (Total de questões: 24)</th>\n",
              "      <th>PORCENTAGEM DE ACERTOS</th>\n",
              "      <th>STATUS</th>\n",
              "      <th>CLASSIFICAÇÃO</th>\n",
              "      <th>REGIÃO METROPOLITANA DE SÃO PAULO</th>\n",
              "    </tr>\n",
              "  </thead>\n",
              "  <tbody>\n",
              "    <tr>\n",
              "      <th>1</th>\n",
              "      <td>EM-3ª série</td>\n",
              "      <td>NOITE</td>\n",
              "      <td>F</td>\n",
              "      <td>1</td>\n",
              "      <td>14.0</td>\n",
              "      <td>58.3</td>\n",
              "      <td>Básico</td>\n",
              "      <td>Suficiente</td>\n",
              "      <td>Região Metropolitana da Baixada Santista</td>\n",
              "    </tr>\n",
              "    <tr>\n",
              "      <th>7</th>\n",
              "      <td>EM-3ª série</td>\n",
              "      <td>MANHÃ</td>\n",
              "      <td>F</td>\n",
              "      <td>1</td>\n",
              "      <td>14.0</td>\n",
              "      <td>58.3</td>\n",
              "      <td>Básico</td>\n",
              "      <td>Suficiente</td>\n",
              "      <td>Interior</td>\n",
              "    </tr>\n",
              "    <tr>\n",
              "      <th>10</th>\n",
              "      <td>EM-3ª série</td>\n",
              "      <td>MANHÃ</td>\n",
              "      <td>M</td>\n",
              "      <td>1</td>\n",
              "      <td>5.0</td>\n",
              "      <td>20.8</td>\n",
              "      <td>Abaixo do Básico</td>\n",
              "      <td>Insuficiente</td>\n",
              "      <td>Interior</td>\n",
              "    </tr>\n",
              "    <tr>\n",
              "      <th>11</th>\n",
              "      <td>EM-3ª série</td>\n",
              "      <td>MANHÃ</td>\n",
              "      <td>M</td>\n",
              "      <td>1</td>\n",
              "      <td>3.0</td>\n",
              "      <td>12.5</td>\n",
              "      <td>Abaixo do Básico</td>\n",
              "      <td>Insuficiente</td>\n",
              "      <td>Interior</td>\n",
              "    </tr>\n",
              "    <tr>\n",
              "      <th>12</th>\n",
              "      <td>EM-3ª série</td>\n",
              "      <td>MANHÃ</td>\n",
              "      <td>F</td>\n",
              "      <td>1</td>\n",
              "      <td>5.0</td>\n",
              "      <td>20.8</td>\n",
              "      <td>Abaixo do Básico</td>\n",
              "      <td>Insuficiente</td>\n",
              "      <td>Região Metropolitana da Baixada Santista</td>\n",
              "    </tr>\n",
              "    <tr>\n",
              "      <th>...</th>\n",
              "      <td>...</td>\n",
              "      <td>...</td>\n",
              "      <td>...</td>\n",
              "      <td>...</td>\n",
              "      <td>...</td>\n",
              "      <td>...</td>\n",
              "      <td>...</td>\n",
              "      <td>...</td>\n",
              "      <td>...</td>\n",
              "    </tr>\n",
              "    <tr>\n",
              "      <th>457890</th>\n",
              "      <td>EM-3ª série</td>\n",
              "      <td>TARDE</td>\n",
              "      <td>M</td>\n",
              "      <td>1</td>\n",
              "      <td>6.0</td>\n",
              "      <td>25.0</td>\n",
              "      <td>Abaixo do Básico</td>\n",
              "      <td>Insuficiente</td>\n",
              "      <td>Interior</td>\n",
              "    </tr>\n",
              "    <tr>\n",
              "      <th>457891</th>\n",
              "      <td>EM-3ª série</td>\n",
              "      <td>MANHÃ</td>\n",
              "      <td>F</td>\n",
              "      <td>1</td>\n",
              "      <td>11.0</td>\n",
              "      <td>45.8</td>\n",
              "      <td>Básico</td>\n",
              "      <td>Suficiente</td>\n",
              "      <td>Região Metropolitana de São Paulo</td>\n",
              "    </tr>\n",
              "    <tr>\n",
              "      <th>457897</th>\n",
              "      <td>EM-3ª série</td>\n",
              "      <td>NOITE</td>\n",
              "      <td>F</td>\n",
              "      <td>1</td>\n",
              "      <td>10.0</td>\n",
              "      <td>41.7</td>\n",
              "      <td>Abaixo do Básico</td>\n",
              "      <td>Insuficiente</td>\n",
              "      <td>Interior</td>\n",
              "    </tr>\n",
              "    <tr>\n",
              "      <th>457901</th>\n",
              "      <td>EM-3ª série</td>\n",
              "      <td>MANHÃ</td>\n",
              "      <td>F</td>\n",
              "      <td>1</td>\n",
              "      <td>6.0</td>\n",
              "      <td>25.0</td>\n",
              "      <td>Abaixo do Básico</td>\n",
              "      <td>Insuficiente</td>\n",
              "      <td>Região Metropolitana de São Paulo</td>\n",
              "    </tr>\n",
              "    <tr>\n",
              "      <th>457903</th>\n",
              "      <td>EM-3ª série</td>\n",
              "      <td>MANHÃ</td>\n",
              "      <td>F</td>\n",
              "      <td>1</td>\n",
              "      <td>10.0</td>\n",
              "      <td>41.7</td>\n",
              "      <td>Abaixo do Básico</td>\n",
              "      <td>Insuficiente</td>\n",
              "      <td>Região Metropolitana de São Paulo</td>\n",
              "    </tr>\n",
              "  </tbody>\n",
              "</table>\n",
              "<p>140615 rows × 9 columns</p>\n",
              "</div>\n",
              "      <button class=\"colab-df-convert\" onclick=\"convertToInteractive('df-cf9ed346-99ed-4954-81b6-2f12c2cccd86')\"\n",
              "              title=\"Convert this dataframe to an interactive table.\"\n",
              "              style=\"display:none;\">\n",
              "        \n",
              "  <svg xmlns=\"http://www.w3.org/2000/svg\" height=\"24px\"viewBox=\"0 0 24 24\"\n",
              "       width=\"24px\">\n",
              "    <path d=\"M0 0h24v24H0V0z\" fill=\"none\"/>\n",
              "    <path d=\"M18.56 5.44l.94 2.06.94-2.06 2.06-.94-2.06-.94-.94-2.06-.94 2.06-2.06.94zm-11 1L8.5 8.5l.94-2.06 2.06-.94-2.06-.94L8.5 2.5l-.94 2.06-2.06.94zm10 10l.94 2.06.94-2.06 2.06-.94-2.06-.94-.94-2.06-.94 2.06-2.06.94z\"/><path d=\"M17.41 7.96l-1.37-1.37c-.4-.4-.92-.59-1.43-.59-.52 0-1.04.2-1.43.59L10.3 9.45l-7.72 7.72c-.78.78-.78 2.05 0 2.83L4 21.41c.39.39.9.59 1.41.59.51 0 1.02-.2 1.41-.59l7.78-7.78 2.81-2.81c.8-.78.8-2.07 0-2.86zM5.41 20L4 18.59l7.72-7.72 1.47 1.35L5.41 20z\"/>\n",
              "  </svg>\n",
              "      </button>\n",
              "      \n",
              "  <style>\n",
              "    .colab-df-container {\n",
              "      display:flex;\n",
              "      flex-wrap:wrap;\n",
              "      gap: 12px;\n",
              "    }\n",
              "\n",
              "    .colab-df-convert {\n",
              "      background-color: #E8F0FE;\n",
              "      border: none;\n",
              "      border-radius: 50%;\n",
              "      cursor: pointer;\n",
              "      display: none;\n",
              "      fill: #1967D2;\n",
              "      height: 32px;\n",
              "      padding: 0 0 0 0;\n",
              "      width: 32px;\n",
              "    }\n",
              "\n",
              "    .colab-df-convert:hover {\n",
              "      background-color: #E2EBFA;\n",
              "      box-shadow: 0px 1px 2px rgba(60, 64, 67, 0.3), 0px 1px 3px 1px rgba(60, 64, 67, 0.15);\n",
              "      fill: #174EA6;\n",
              "    }\n",
              "\n",
              "    [theme=dark] .colab-df-convert {\n",
              "      background-color: #3B4455;\n",
              "      fill: #D2E3FC;\n",
              "    }\n",
              "\n",
              "    [theme=dark] .colab-df-convert:hover {\n",
              "      background-color: #434B5C;\n",
              "      box-shadow: 0px 1px 3px 1px rgba(0, 0, 0, 0.15);\n",
              "      filter: drop-shadow(0px 1px 2px rgba(0, 0, 0, 0.3));\n",
              "      fill: #FFFFFF;\n",
              "    }\n",
              "  </style>\n",
              "\n",
              "      <script>\n",
              "        const buttonEl =\n",
              "          document.querySelector('#df-cf9ed346-99ed-4954-81b6-2f12c2cccd86 button.colab-df-convert');\n",
              "        buttonEl.style.display =\n",
              "          google.colab.kernel.accessAllowed ? 'block' : 'none';\n",
              "\n",
              "        async function convertToInteractive(key) {\n",
              "          const element = document.querySelector('#df-cf9ed346-99ed-4954-81b6-2f12c2cccd86');\n",
              "          const dataTable =\n",
              "            await google.colab.kernel.invokeFunction('convertToInteractive',\n",
              "                                                     [key], {});\n",
              "          if (!dataTable) return;\n",
              "\n",
              "          const docLinkHtml = 'Like what you see? Visit the ' +\n",
              "            '<a target=\"_blank\" href=https://colab.research.google.com/notebooks/data_table.ipynb>data table notebook</a>'\n",
              "            + ' to learn more about interactive tables.';\n",
              "          element.innerHTML = '';\n",
              "          dataTable['output_type'] = 'display_data';\n",
              "          await google.colab.output.renderOutput(dataTable, element);\n",
              "          const docLink = document.createElement('div');\n",
              "          docLink.innerHTML = docLinkHtml;\n",
              "          element.appendChild(docLink);\n",
              "        }\n",
              "      </script>\n",
              "    </div>\n",
              "  </div>\n",
              "  "
            ]
          },
          "metadata": {}
        }
      ]
    },
    {
      "cell_type": "code",
      "source": [
        "nono = presentes.loc[presentes[\"SERIE/ANO\"] == \"9º Ano EF\"]\n",
        "display(nono)\n",
        "# 129.702 alunos que fizeram a prova eram do nono ano."
      ],
      "metadata": {
        "id": "Lq27F8PVpsAu"
      },
      "execution_count": null,
      "outputs": []
    },
    {
      "cell_type": "code",
      "source": [
        "# ANALISANDO DADOS DO TERCEIRÃO!\n",
        "# 140.615 alunos que fizeram a prova eram do terceirão.\n",
        "\n",
        "\n",
        "terceirao[terceirao[\"STATUS\"] == \"Abaixo do Básico\"]\n",
        "#38,52% dos alunos (54.161) erraram mais da metade da prova com desempenho insuficiente.\n",
        "\n",
        "\n",
        "terceirao[terceirao[\"STATUS\"] == \"Básico\"]\n",
        "# 37,16% dos alunos (52.256) acertaram entre 50% a 69% da prova, com desempenho básico.\n",
        "\n",
        "terceirao[terceirao[\"STATUS\"] == \"Adequado\"]\n",
        "# 23,82% dos alunos (33.491) acertaram entre 70%\n",
        "\n",
        "terceirao[terceirao[\"STATUS\"] == \"Avançado\"]\n",
        "#0,005% dos alunos (707) acertaram mais de 90% da prova de português\n",
        "\n",
        "\n",
        "\n",
        "\n",
        "\n"
      ],
      "metadata": {
        "id": "2n7ahSK3sktf"
      },
      "execution_count": null,
      "outputs": []
    },
    {
      "cell_type": "code",
      "source": [
        "# Gráfico de barras sobre o desempenho do terceirão\n",
        "alunos = [54161 , 52256 , 33491, 707] #valores de Y\n",
        "nivel = ['Abaixo do básico' , 'Básico','Adequado','Avançado'] #valores de x\n",
        "\n",
        "plt.bar(nivel, alunos, color=\"green\")\n",
        "plt.xticks(nivel)\n",
        "plt.ylabel(\"Número de alunos\")\n",
        "plt.xlabel(\"Desempenho\")\n",
        "plt.title(\"EM-3ª série - Desempenho SARESP 2021\")\n",
        "plt.show()\n",
        "\n"
      ],
      "metadata": {
        "colab": {
          "base_uri": "https://localhost:8080/",
          "height": 295
        },
        "id": "-7w1bfYY5AN9",
        "outputId": "a42260f3-e27a-4205-9ba0-e33fc9810608"
      },
      "execution_count": null,
      "outputs": [
        {
          "output_type": "display_data",
          "data": {
            "text/plain": [
              "<Figure size 432x288 with 1 Axes>"
            ],
            "image/png": "[encoded data removed]"
          },
          "metadata": {
            "needs_background": "light"
          }
        }
      ]
    },
    {
      "cell_type": "code",
      "source": [
        "t_eixoy =[0,10,20,30,40,50,60,70,80,90,100]\n",
        "t_boxplot = terceirao.boxplot(column = \"PORCENTAGEM DE ACERTOS\")\n",
        "plt.title(\"EM-3ª série\")\n",
        "plt.yticks(t_eixoy)\n",
        "plt.show()"
      ],
      "metadata": {
        "colab": {
          "base_uri": "https://localhost:8080/",
          "height": 281
        },
        "id": "WqNzBzUuO8Lh",
        "outputId": "ac954dc0-5348-48f9-80f0-8216e74e5dbc"
      },
      "execution_count": null,
      "outputs": [
        {
          "output_type": "display_data",
          "data": {
            "text/plain": [
              "<Figure size 432x288 with 1 Axes>"
            ],
            "image/png": "[encoded data removed]"
          },
          "metadata": {
            "needs_background": "light"
          }
        }
      ]
    },
    {
      "cell_type": "code",
      "source": [
        "# Analisando o desempenho do nono ano\n",
        "  # 129.702 alunos que fizeram a prova eram do nono ano.\n",
        "\n",
        "nono[nono[\"STATUS\"] == \"Abaixo do Básico\"]\n",
        "#19,49% dos alunos (25.273) erraram mais da metade da prova com desempenho insuficiente.\n",
        "\n",
        "nono[nono[\"STATUS\"] == \"Básico\"]\n",
        "# 56,68% dos alunos (73.509) acertaram entre 50% a 69% da prova, com desempenho básico.\n",
        "\n",
        "nono[nono[\"STATUS\"] == \"Adequado\"]\n",
        "# 20,77% dos alunos (26.933) acertaram entre 70%\n",
        "\n",
        "nono[nono[\"STATUS\"] == \"Avançado\"]\n",
        "# 3,07% dos alunos (3987) acertaram mais de 90% da prova."
      ],
      "metadata": {
        "id": "VcdWzygGLpaR"
      },
      "execution_count": null,
      "outputs": []
    },
    {
      "cell_type": "code",
      "source": [
        "#GRÁFICO DE DESEMPENHO NONO ANO\n",
        "alunos = [25273 , 73509 , 26933, 3987] #valores de Y\n",
        "nivel = ['Abaixo do básico' , 'Básico','Adequado','Avançado'] #valores de x\n",
        "\n",
        "plt.bar(nivel, alunos, color=\"red\")\n",
        "plt.xticks(nivel)\n",
        "plt.ylabel(\"Número de alunos\")\n",
        "plt.xlabel(\"Desempenho\")\n",
        "plt.title(\"9º Ano EF - Desempenho SARESP 2021\")\n",
        "plt.show()"
      ],
      "metadata": {
        "colab": {
          "base_uri": "https://localhost:8080/",
          "height": 295
        },
        "id": "bOPN92nMoUKP",
        "outputId": "15835cca-b970-4b5a-c2f7-662c91b236a9"
      },
      "execution_count": null,
      "outputs": [
        {
          "output_type": "display_data",
          "data": {
            "text/plain": [
              "<Figure size 432x288 with 1 Axes>"
            ],
            "image/png": "[encoded data removed]"
          },
          "metadata": {
            "needs_background": "light"
          }
        }
      ]
    },
    {
      "cell_type": "code",
      "source": [
        "t_eixoy =[0,10,20,30,40,50,60,70,80,90,100]\n",
        "plt.yticks(t_eixoy)\n",
        "n_boxplot = nono.boxplot(column = \"PORCENTAGEM DE ACERTOS\")\n",
        "plt.title(\"9º Ano EF\")\n",
        "\n"
      ],
      "metadata": {
        "colab": {
          "base_uri": "https://localhost:8080/",
          "height": 298
        },
        "id": "KfX-16cbQbNh",
        "outputId": "b53c4e4a-3482-4f77-d21e-589ac86546ae"
      },
      "execution_count": null,
      "outputs": [
        {
          "output_type": "execute_result",
          "data": {
            "text/plain": [
              "Text(0.5, 1.0, '9º Ano EF')"
            ]
          },
          "metadata": {},
          "execution_count": 113
        },
        {
          "output_type": "display_data",
          "data": {
            "text/plain": [
              "<Figure size 432x288 with 1 Axes>"
            ],
            "image/png": "[encoded data removed]"
          },
          "metadata": {
            "needs_background": "light"
          }
        }
      ]
    },
    {
      "cell_type": "code",
      "source": [
        "alunos_terceirao = [38,37,23,0.005]\n",
        "alunos_nono = [19,56,20,3.07]\n",
        "nivel = (1,4,7,10)\n",
        "nivel2 = (1.8,4.8,7.8,10.8)\n",
        "\n",
        "plt.title(\"Diferença de desempenho\")\n",
        "plt.ylabel(\"Percentual de alunos(%)\")\n",
        "plt.xlabel(\"Desempenho\")\n",
        "\n",
        "plt.yticks([0,10,20,30,40,50,60,70,80,90,100])\n",
        "plt.xticks(nivel2,('Abaixo do básico' , 'Básico','Adequado','Avançado'))\n",
        "\n",
        "vermelho= plt.bar(nivel2,alunos_nono, color=\"r\")\n",
        "verde = plt.bar(nivel,alunos_terceirao,color=\"g\")\n",
        "plt.legend(labels=['9º Ano EF','EM-3ª série'])\n",
        "\n"
      ],
      "metadata": {
        "colab": {
          "base_uri": "https://localhost:8080/",
          "height": 312
        },
        "id": "Voge6TyBaBSH",
        "outputId": "1d3c5d1b-7f48-4717-ee04-98b47102a35f"
      },
      "execution_count": null,
      "outputs": [
        {
          "output_type": "execute_result",
          "data": {
            "text/plain": [
              "<matplotlib.legend.Legend at 0x7f9c90335110>"
            ]
          },
          "metadata": {},
          "execution_count": 115
        },
        {
          "output_type": "display_data",
          "data": {
            "text/plain": [
              "<Figure size 432x288 with 1 Axes>"
            ],
            "image/png": "[encoded data removed]"
          },
          "metadata": {
            "needs_background": "light"
          }
        }
      ]
    },
    {
      "cell_type": "code",
      "source": [
        "nono[\"PORCENTAGEM DE ACERTOS\"].describe() #Media ,desvio padrão."
      ],
      "metadata": {
        "colab": {
          "base_uri": "https://localhost:8080/"
        },
        "id": "dDY8zcW-npMI",
        "outputId": "a5436574-79de-49aa-ef0c-50b11e81ffdc"
      },
      "execution_count": null,
      "outputs": [
        {
          "output_type": "execute_result",
          "data": {
            "text/plain": [
              "count    146862.000000\n",
              "mean         58.285325\n",
              "std          19.632605\n",
              "min           0.000000\n",
              "25%          41.700000\n",
              "50%          58.300000\n",
              "75%          75.000000\n",
              "max         100.000000\n",
              "Name: PORCENTAGEM DE ACERTOS, dtype: float64"
            ]
          },
          "metadata": {},
          "execution_count": 16
        }
      ]
    },
    {
      "cell_type": "code",
      "source": [
        "terceirao[\"PORCENTAGEM DE ACERTOS\"].describe() #Pegar média e desvio padrão"
      ],
      "metadata": {
        "colab": {
          "base_uri": "https://localhost:8080/"
        },
        "id": "5K3d6zHOs992",
        "outputId": "c3a89c04-3be9-4e8a-d743-09711305eed2"
      },
      "execution_count": null,
      "outputs": [
        {
          "output_type": "execute_result",
          "data": {
            "text/plain": [
              "count    140615.000000\n",
              "mean         53.495286\n",
              "std          22.618471\n",
              "min           0.000000\n",
              "25%          33.300000\n",
              "50%          54.200000\n",
              "75%          70.800000\n",
              "max         100.000000\n",
              "Name: PORCENTAGEM DE ACERTOS, dtype: float64"
            ]
          },
          "metadata": {},
          "execution_count": 17
        }
      ]
    },
    {
      "cell_type": "code",
      "source": [
        "#GRAFICOS DE DISPERSÃO: TERCEIRAO\n",
        "x = []\n",
        "j = 0\n",
        "while j < 25:\n",
        "  x.append(j)\n",
        "  j=j+1\n",
        "#Descobrindo a frequência de cada acerto\n",
        "i = 0\n",
        "while i < 25:\n",
        "  print(terceirao[terceirao['ACERTOS (Total de questões: 24)'] == i].shape)\n",
        "  i = i+1\n",
        "\n",
        "y = [90, 342, 1064, 2510, 4093, 5683, 6795, 7463,7703, 7790, 8058, 7933, 8092, 8260, 8110, 8122, 7848, 7692, 7317, 6908,\n",
        "    6196, 5224, 4044, 2447, 831,]\n",
        "\n"
      ],
      "metadata": {
        "colab": {
          "base_uri": "https://localhost:8080/"
        },
        "id": "k6RdkpNuwNRf",
        "outputId": "6ea93e1d-a1c1-4697-e18d-ca69e192284c"
      },
      "execution_count": null,
      "outputs": [
        {
          "output_type": "stream",
          "name": "stdout",
          "text": [
            "[0, 1, 2, 3, 4, 5, 6, 7, 8, 9, 10, 11, 12, 13, 14, 15, 16, 17, 18, 19, 20, 21, 22, 23, 24]\n"
          ]
        }
      ]
    },
    {
      "cell_type": "code",
      "source": [
        "acertos = [2,4,6,8,10,12,14,16,18,20,22,24]\n",
        "plt.xlabel(\"Número de acertos\")\n",
        "plt.ylabel(\"Frequência(quantos alunos)\")\n",
        "plt.title(\"Frequência de acertos - SARESP 2021(Português)\")\n",
        "plt.xticks(acertos)\n",
        "plt.scatter(x,y)\n",
        "plt.show()\n",
        "\n",
        "\n"
      ],
      "metadata": {
        "colab": {
          "base_uri": "https://localhost:8080/",
          "height": 295
        },
        "id": "p7TnFQLP8ahG",
        "outputId": "29ce6b6a-c1d8-468f-c88b-3c1f958d29cb"
      },
      "execution_count": null,
      "outputs": [
        {
          "output_type": "display_data",
          "data": {
            "text/plain": [
              "<Figure size 432x288 with 1 Axes>"
            ],
            "image/png": "[encoded data removed]"
          },
          "metadata": {
            "needs_background": "light"
          }
        }
      ]
    },
    {
      "cell_type": "code",
      "source": [
        "plt.hist(nono['ACERTOS (Total de questões: 24)'],bins=45)\n",
        "plt.xlabel(\"Número de acertos\")\n",
        "plt.ylabel(\"Frequência(quantos alunos)\")\n",
        "plt.title(\" SARESP: Questões de português - 9º Ano EF\")"
      ],
      "metadata": {
        "colab": {
          "base_uri": "https://localhost:8080/",
          "height": 312
        },
        "id": "0XzBL_ugZWUQ",
        "outputId": "bcd76e4d-3841-4118-e108-18ad8da9a6b8"
      },
      "execution_count": null,
      "outputs": [
        {
          "output_type": "execute_result",
          "data": {
            "text/plain": [
              "Text(0.5, 1.0, ' SARESP: Questões de português - 9º Ano EF')"
            ]
          },
          "metadata": {},
          "execution_count": 103
        },
        {
          "output_type": "display_data",
          "data": {
            "text/plain": [
              "<Figure size 432x288 with 1 Axes>"
            ],
            "image/png": "[encoded data removed]"
          },
          "metadata": {
            "needs_background": "light"
          }
        }
      ]
    },
    {
      "cell_type": "code",
      "source": [
        "plt.hist(terceirao['ACERTOS (Total de questões: 24)'],bins=5)\n",
        "plt.xlabel(\"Número de acertos\")\n",
        "plt.ylabel(\"Frequência(quantos alunos)\")\n",
        "plt.title(\" SARESP: Questões de português - EM-3ª série\")\n",
        "plt.show()"
      ],
      "metadata": {
        "colab": {
          "base_uri": "https://localhost:8080/",
          "height": 295
        },
        "id": "2Mg5mVgwNjwm",
        "outputId": "56840571-c35d-457f-ae16-a6294c54029e"
      },
      "execution_count": null,
      "outputs": [
        {
          "output_type": "display_data",
          "data": {
            "text/plain": [
              "<Figure size 432x288 with 1 Axes>"
            ],
            "image/png": "[encoded data removed]"
          },
          "metadata": {
            "needs_background": "light"
          }
        }
      ]
    },
    {
      "cell_type": "code",
      "source": [
        "scipy.stats.probplot(terceirao['ACERTOS (Total de questões: 2],fit=True,plot=plt)\n",
        "plt.title(\"Probabilidade normal - Acertos em português - E4)'M-3ª série\")\n",
        "plt.show()"
      ],
      "metadata": {
        "colab": {
          "base_uri": "https://localhost:8080/",
          "height": 295
        },
        "id": "UzlpVY8zXeZF",
        "outputId": "6a1a68ed-ce0b-4789-c5c8-6a3c6e924934"
      },
      "execution_count": null,
      "outputs": [
        {
          "output_type": "display_data",
          "data": {
            "text/plain": [
              "<Figure size 432x288 with 1 Axes>"
            ],
            "image/png": "[encoded data removed]"
          },
          "metadata": {
            "needs_background": "light"
          }
        }
      ]
    },
    {
      "cell_type": "code",
      "source": [
        "scipy.stats.probplot(nono['ACERTOS (Total de questões: 24)'],fit=True,plot=plt)\n",
        "plt.title(\"Probabilidade normal - Acertos em português - 9º Ano EF\")\n",
        "plt.show()"
      ],
      "metadata": {
        "colab": {
          "base_uri": "https://localhost:8080/",
          "height": 295
        },
        "id": "31Th4vHDYYwM",
        "outputId": "048b84f4-29e7-4de0-a29c-a4bd50635d56"
      },
      "execution_count": null,
      "outputs": [
        {
          "output_type": "display_data",
          "data": {
            "text/plain": [
              "<Figure size 432x288 with 1 Axes>"
            ],
            "image/png": "[encoded data removed]"
          },
          "metadata": {
            "needs_background": "light"
          }
        }
      ]
    }
  ]
}