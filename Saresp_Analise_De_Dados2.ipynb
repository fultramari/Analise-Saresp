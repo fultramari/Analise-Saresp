{
  "nbformat": 4,
  "nbformat_minor": 0,
  "metadata": {
    "colab": {
      "provenance": [],
      "authorship_tag": "ABX9TyMdB48/iiRBTQYBd7eIEWlj",
      "include_colab_link": true
    },
    "kernelspec": {
      "name": "python3",
      "display_name": "Python 3"
    },
    "language_info": {
      "name": "python"
    }
  },
  "cells": [
    {
      "cell_type": "markdown",
      "metadata": {
        "id": "view-in-github",
        "colab_type": "text"
      },
      "source": [
        "<a href=\"https://colab.research.google.com/github/fultramari/Analise-Saresp/blob/main/Saresp_Analise_De_Dados2.ipynb\" target=\"_parent\"><img src=\"https://colab.research.google.com/assets/colab-badge.svg\" alt=\"Open In Colab\"/></a>"
      ]
    },
    {
      "cell_type": "code",
      "execution_count": null,
      "metadata": {
        "id": "lFF5yAylizRI",
        "colab": {
          "base_uri": "https://localhost:8080/"
        },
        "outputId": "9cdd7088-22b8-43cb-ceeb-b06db0419254"
      },
      "outputs": [
        {
          "output_type": "stream",
          "name": "stderr",
          "text": [
            "/usr/local/lib/python3.7/dist-packages/statsmodels/tools/_testing.py:19: FutureWarning: pandas.util.testing is deprecated. Use the functions in the public API at pandas.testing instead.\n",
            "  import pandas.util.testing as tm\n"
          ]
        },
        {
          "output_type": "execute_result",
          "data": {
            "text/plain": [
              "(6139, 9)"
            ]
          },
          "metadata": {},
          "execution_count": 3
        }
      ],
      "source": [
        "E# from sys import displayhook\n",
        "import numpy as np\n",
        "import pandas as pd\n",
        "import matplotlib.pyplot as plt\n",
        "import scipy.stats\n",
        "from statsmodels.graphics.gofplots import qqplot\n",
        "\n",
        "tabela = pd.read_csv(\"planilha.csv.csv\")\n",
        "\n",
        "#Declarando dataframes que utilizaremos\n",
        "faltas = tabela.loc[tabela[\"REALIZOU O EXAME (S=1, N=0)\"] == 0]\n",
        "presentes = tabela.loc[tabela[\"REALIZOU O EXAME (S=1, N=0)\"] == 1]\n",
        "terceirao = presentes.loc[presentes[\"SERIE/ANO\"] == \"EM-3ª série\"]\n",
        "nono = presentes.loc[presentes[\"SERIE/ANO\"] == \"9º Ano EF\"]\n",
        "\n",
        "#Quem não foi: Onde mais moravam?\n",
        "\n",
        "faltas[faltas[\"REGIÃO METROPOLITANA DE SÃO PAULO\"] == \"Interior\"].shape  #25.977 faltas\n",
        "\n",
        "faltas[faltas[\"REGIÃO METROPOLITANA DE SÃO PAULO\"] == \"Região Metropolitana da Baixada Santista\"].shape #5523 faltas\n",
        "\n",
        "faltas[faltas[\"REGIÃO METROPOLITANA DE SÃO PAULO\"] == \"Região Metropolitana de Campinas\"].shape #3191 faltas\n",
        "\n",
        "faltas[faltas[\"REGIÃO METROPOLITANA DE SÃO PAULO\"] == \"Região Metropolitana de Ribeirão Preto\"].shape # 4704 faltas\n",
        "\n",
        "faltas[faltas[\"REGIÃO METROPOLITANA DE SÃO PAULO\"] == \"Região Metropolitana de São Paulo\"].shape #53107 faltas\n",
        "\n",
        "faltas[faltas[\"REGIÃO METROPOLITANA DE SÃO PAULO\"] == \"Região Metropolitana de Sorocaba\"].shape #6182 faltas\n",
        "\n",
        "faltas[faltas[\"REGIÃO METROPOLITANA DE SÃO PAULO\"] == \"Região Metropolitana do Vale do Paraíba e Litoral Norte\"].shape #6139 faltas\n",
        "\n",
        "\n",
        "\n"
      ]
    },
    {
      "cell_type": "code",
      "source": [
        "#Qual localidade teve melhor desempenho? (em média)\n",
        "\n",
        "#SAO PAULO: 178.659 alunos\n",
        "sp = presentes[presentes[\"REGIÃO METROPOLITANA DE SÃO PAULO\"] == \"Região Metropolitana de São Paulo\"]\n",
        "sp.describe() #Desempenho médio : Os alunos da cidade de SP tiveram aproveitamentento médio de 58,7%, média de 14 acertos e desvio padrão de 22% (5 acertos)\n",
        "\n",
        "#Status geral:\n",
        "sp[sp[\"STATUS\"] == \"Abaixo do Básico\"] #45.856 paulistas (25,67%)\n",
        "\n",
        "sp[sp[\"STATUS\"] == \"Básico\"] #77.599 paulistas(43,43%)\n",
        "\n",
        "sp[sp[\"STATUS\"] == \"Adequado\"] #45.480 paulistas(25,46%)\n",
        "\n",
        "sp[sp[\"STATUS\"] == \"Avançado\"] #9724 paulistas(5,44%)\n",
        "\n",
        "\n"
      ],
      "metadata": {
        "id": "-MOSMB2bl9cb"
      },
      "execution_count": null,
      "outputs": []
    },
    {
      "cell_type": "code",
      "source": [
        "sp.describe()"
      ],
      "metadata": {
        "colab": {
          "base_uri": "https://localhost:8080/",
          "height": 300
        },
        "id": "NMK6XBPDR2Ik",
        "outputId": "891ce3f0-ecb8-4ad6-e0f0-c712698bec90"
      },
      "execution_count": null,
      "outputs": [
        {
          "output_type": "execute_result",
          "data": {
            "text/plain": [
              "       REALIZOU O EXAME (S=1, N=0)  ACERTOS (Total de questões: 24)  \\\n",
              "count                     178659.0                    178659.000000   \n",
              "mean                           1.0                        14.090121   \n",
              "std                            0.0                         5.352006   \n",
              "min                            1.0                         0.000000   \n",
              "25%                            1.0                        10.000000   \n",
              "50%                            1.0                        14.000000   \n",
              "75%                            1.0                        18.000000   \n",
              "max                            1.0                        24.000000   \n",
              "\n",
              "       PORCENTAGEM DE ACERTOS  \n",
              "count           178659.000000  \n",
              "mean                58.708721  \n",
              "std                 22.299676  \n",
              "min                  0.000000  \n",
              "25%                 41.700000  \n",
              "50%                 58.300000  \n",
              "75%                 75.000000  \n",
              "max                100.000000  "
            ],
            "text/html": [
              "\n",
              "  <div id=\"df-7af75f70-6f64-472e-b10e-e42f3e9f7a07\">\n",
              "    <div class=\"colab-df-container\">\n",
              "      <div>\n",
              "<style scoped>\n",
              "    .dataframe tbody tr th:only-of-type {\n",
              "        vertical-align: middle;\n",
              "    }\n",
              "\n",
              "    .dataframe tbody tr th {\n",
              "        vertical-align: top;\n",
              "    }\n",
              "\n",
              "    .dataframe thead th {\n",
              "        text-align: right;\n",
              "    }\n",
              "</style>\n",
              "<table border=\"1\" class=\"dataframe\">\n",
              "  <thead>\n",
              "    <tr style=\"text-align: right;\">\n",
              "      <th></th>\n",
              "      <th>REALIZOU O EXAME (S=1, N=0)</th>\n",
              "      <th>ACERTOS (Total de questões: 24)</th>\n",
              "      <th>PORCENTAGEM DE ACERTOS</th>\n",
              "    </tr>\n",
              "  </thead>\n",
              "  <tbody>\n",
              "    <tr>\n",
              "      <th>count</th>\n",
              "      <td>178659.0</td>\n",
              "      <td>178659.000000</td>\n",
              "      <td>178659.000000</td>\n",
              "    </tr>\n",
              "    <tr>\n",
              "      <th>mean</th>\n",
              "      <td>1.0</td>\n",
              "      <td>14.090121</td>\n",
              "      <td>58.708721</td>\n",
              "    </tr>\n",
              "    <tr>\n",
              "      <th>std</th>\n",
              "      <td>0.0</td>\n",
              "      <td>5.352006</td>\n",
              "      <td>22.299676</td>\n",
              "    </tr>\n",
              "    <tr>\n",
              "      <th>min</th>\n",
              "      <td>1.0</td>\n",
              "      <td>0.000000</td>\n",
              "      <td>0.000000</td>\n",
              "    </tr>\n",
              "    <tr>\n",
              "      <th>25%</th>\n",
              "      <td>1.0</td>\n",
              "      <td>10.000000</td>\n",
              "      <td>41.700000</td>\n",
              "    </tr>\n",
              "    <tr>\n",
              "      <th>50%</th>\n",
              "      <td>1.0</td>\n",
              "      <td>14.000000</td>\n",
              "      <td>58.300000</td>\n",
              "    </tr>\n",
              "    <tr>\n",
              "      <th>75%</th>\n",
              "      <td>1.0</td>\n",
              "      <td>18.000000</td>\n",
              "      <td>75.000000</td>\n",
              "    </tr>\n",
              "    <tr>\n",
              "      <th>max</th>\n",
              "      <td>1.0</td>\n",
              "      <td>24.000000</td>\n",
              "      <td>100.000000</td>\n",
              "    </tr>\n",
              "  </tbody>\n",
              "</table>\n",
              "</div>\n",
              "      <button class=\"colab-df-convert\" onclick=\"convertToInteractive('df-7af75f70-6f64-472e-b10e-e42f3e9f7a07')\"\n",
              "              title=\"Convert this dataframe to an interactive table.\"\n",
              "              style=\"display:none;\">\n",
              "        \n",
              "  <svg xmlns=\"http://www.w3.org/2000/svg\" height=\"24px\"viewBox=\"0 0 24 24\"\n",
              "       width=\"24px\">\n",
              "    <path d=\"M0 0h24v24H0V0z\" fill=\"none\"/>\n",
              "    <path d=\"M18.56 5.44l.94 2.06.94-2.06 2.06-.94-2.06-.94-.94-2.06-.94 2.06-2.06.94zm-11 1L8.5 8.5l.94-2.06 2.06-.94-2.06-.94L8.5 2.5l-.94 2.06-2.06.94zm10 10l.94 2.06.94-2.06 2.06-.94-2.06-.94-.94-2.06-.94 2.06-2.06.94z\"/><path d=\"M17.41 7.96l-1.37-1.37c-.4-.4-.92-.59-1.43-.59-.52 0-1.04.2-1.43.59L10.3 9.45l-7.72 7.72c-.78.78-.78 2.05 0 2.83L4 21.41c.39.39.9.59 1.41.59.51 0 1.02-.2 1.41-.59l7.78-7.78 2.81-2.81c.8-.78.8-2.07 0-2.86zM5.41 20L4 18.59l7.72-7.72 1.47 1.35L5.41 20z\"/>\n",
              "  </svg>\n",
              "      </button>\n",
              "      \n",
              "  <style>\n",
              "    .colab-df-container {\n",
              "      display:flex;\n",
              "      flex-wrap:wrap;\n",
              "      gap: 12px;\n",
              "    }\n",
              "\n",
              "    .colab-df-convert {\n",
              "      background-color: #E8F0FE;\n",
              "      border: none;\n",
              "      border-radius: 50%;\n",
              "      cursor: pointer;\n",
              "      display: none;\n",
              "      fill: #1967D2;\n",
              "      height: 32px;\n",
              "      padding: 0 0 0 0;\n",
              "      width: 32px;\n",
              "    }\n",
              "\n",
              "    .colab-df-convert:hover {\n",
              "      background-color: #E2EBFA;\n",
              "      box-shadow: 0px 1px 2px rgba(60, 64, 67, 0.3), 0px 1px 3px 1px rgba(60, 64, 67, 0.15);\n",
              "      fill: #174EA6;\n",
              "    }\n",
              "\n",
              "    [theme=dark] .colab-df-convert {\n",
              "      background-color: #3B4455;\n",
              "      fill: #D2E3FC;\n",
              "    }\n",
              "\n",
              "    [theme=dark] .colab-df-convert:hover {\n",
              "      background-color: #434B5C;\n",
              "      box-shadow: 0px 1px 3px 1px rgba(0, 0, 0, 0.15);\n",
              "      filter: drop-shadow(0px 1px 2px rgba(0, 0, 0, 0.3));\n",
              "      fill: #FFFFFF;\n",
              "    }\n",
              "  </style>\n",
              "\n",
              "      <script>\n",
              "        const buttonEl =\n",
              "          document.querySelector('#df-7af75f70-6f64-472e-b10e-e42f3e9f7a07 button.colab-df-convert');\n",
              "        buttonEl.style.display =\n",
              "          google.colab.kernel.accessAllowed ? 'block' : 'none';\n",
              "\n",
              "        async function convertToInteractive(key) {\n",
              "          const element = document.querySelector('#df-7af75f70-6f64-472e-b10e-e42f3e9f7a07');\n",
              "          const dataTable =\n",
              "            await google.colab.kernel.invokeFunction('convertToInteractive',\n",
              "                                                     [key], {});\n",
              "          if (!dataTable) return;\n",
              "\n",
              "          const docLinkHtml = 'Like what you see? Visit the ' +\n",
              "            '<a target=\"_blank\" href=https://colab.research.google.com/notebooks/data_table.ipynb>data table notebook</a>'\n",
              "            + ' to learn more about interactive tables.';\n",
              "          element.innerHTML = '';\n",
              "          dataTable['output_type'] = 'display_data';\n",
              "          await google.colab.output.renderOutput(dataTable, element);\n",
              "          const docLink = document.createElement('div');\n",
              "          docLink.innerHTML = docLinkHtml;\n",
              "          element.appendChild(docLink);\n",
              "        }\n",
              "      </script>\n",
              "    </div>\n",
              "  </div>\n",
              "  "
            ]
          },
          "metadata": {},
          "execution_count": 5
        }
      ]
    },
    {
      "cell_type": "code",
      "source": [
        "#Percentual de desenvolvimento\n",
        "plt.hist(sp['ACERTOS (Total de questões: 24)'],bins=50)\n",
        "plt.xlabel(\"Número de acertos\")\n",
        "plt.ylabel(\"Frequência\")\n",
        "plt.title(\"São Paulo - acertos por número de alunos\")"
      ],
      "metadata": {
        "colab": {
          "base_uri": "https://localhost:8080/",
          "height": 312
        },
        "id": "5DIyBackorvs",
        "outputId": "80a66a9f-158a-431e-833c-f6ffcd838828"
      },
      "execution_count": null,
      "outputs": [
        {
          "output_type": "execute_result",
          "data": {
            "text/plain": [
              "Text(0.5, 1.0, 'São Paulo - acertos por número de alunos')"
            ]
          },
          "metadata": {},
          "execution_count": 6
        },
        {
          "output_type": "display_data",
          "data": {
            "text/plain": [
              "<Figure size 432x288 with 1 Axes>"
            ],
            "image/png": "[encoded data removed]"
          },
          "metadata": {
            "needs_background": "light"
          }
        }
      ]
    },
    {
      "cell_type": "code",
      "source": [
        "alunos = [25.67 , 43.43 , 25.46, 5.44] #valores de Y\n",
        "nivel = ['Abaixo do básico' , 'Básico','Adequado','Avançado'] #valores de x\n",
        "y = [0,5,10,15,20,25,30,35,40,45,50]\n",
        "plt.bar(nivel, alunos, color=\"lime\")\n",
        "plt.xticks(nivel)\n",
        "plt.yticks(y)\n",
        "plt.ylabel(\"Alunos(%)\")\n",
        "plt.xlabel(\"Desempenho\")\n",
        "plt.title(\"Desempenho SARESP 2021 - cidade de São Paulo\")\n",
        "plt.show()"
      ],
      "metadata": {
        "colab": {
          "base_uri": "https://localhost:8080/",
          "height": 295
        },
        "id": "Iu5tC61epXT0",
        "outputId": "73e6dd2c-714a-4741-d5b8-2ea3a4f52cc1"
      },
      "execution_count": null,
      "outputs": [
        {
          "output_type": "display_data",
          "data": {
            "text/plain": [
              "<Figure size 432x288 with 1 Axes>"
            ],
            "image/png": "[encoded data removed]"
          },
          "metadata": {
            "needs_background": "light"
          }
        }
      ]
    },
    {
      "cell_type": "code",
      "source": [
        "# INTERIOR DE SÃO PAULO (89.234 pessoas)\n",
        "#Desempenho médio:\n",
        "interior = presentes[presentes[\"REGIÃO METROPOLITANA DE SÃO PAULO\"] == \"Interior\"]\n",
        "media = sum(interior [\"PORCENTAGEM DE ACERTOS\"])/ len(interior)\n",
        "interior.describe() #Desempenho médio : 56,6% de acerto\n",
        "\n"
      ],
      "metadata": {
        "colab": {
          "base_uri": "https://localhost:8080/",
          "height": 300
        },
        "id": "e4Szp7_nw2Ma",
        "outputId": "3ca25cdf-2f1d-4f5e-f097-7a15ef671163"
      },
      "execution_count": null,
      "outputs": [
        {
          "output_type": "execute_result",
          "data": {
            "text/plain": [
              "       REALIZOU O EXAME (S=1, N=0)  ACERTOS (Total de questões: 24)  \\\n",
              "count                      89234.0                     89234.000000   \n",
              "mean                           1.0                        13.594941   \n",
              "std                            0.0                         5.259049   \n",
              "min                            1.0                         0.000000   \n",
              "25%                            1.0                         9.000000   \n",
              "50%                            1.0                        14.000000   \n",
              "75%                            1.0                        18.000000   \n",
              "max                            1.0                        24.000000   \n",
              "\n",
              "       PORCENTAGEM DE ACERTOS  \n",
              "count            89234.000000  \n",
              "mean                56.645507  \n",
              "std                 21.912567  \n",
              "min                  0.000000  \n",
              "25%                 37.500000  \n",
              "50%                 58.300000  \n",
              "75%                 75.000000  \n",
              "max                100.000000  "
            ],
            "text/html": [
              "\n",
              "  <div id=\"df-e99e3136-e9e5-413d-86ff-2d5a1eea5f4c\">\n",
              "    <div class=\"colab-df-container\">\n",
              "      <div>\n",
              "<style scoped>\n",
              "    .dataframe tbody tr th:only-of-type {\n",
              "        vertical-align: middle;\n",
              "    }\n",
              "\n",
              "    .dataframe tbody tr th {\n",
              "        vertical-align: top;\n",
              "    }\n",
              "\n",
              "    .dataframe thead th {\n",
              "        text-align: right;\n",
              "    }\n",
              "</style>\n",
              "<table border=\"1\" class=\"dataframe\">\n",
              "  <thead>\n",
              "    <tr style=\"text-align: right;\">\n",
              "      <th></th>\n",
              "      <th>REALIZOU O EXAME (S=1, N=0)</th>\n",
              "      <th>ACERTOS (Total de questões: 24)</th>\n",
              "      <th>PORCENTAGEM DE ACERTOS</th>\n",
              "    </tr>\n",
              "  </thead>\n",
              "  <tbody>\n",
              "    <tr>\n",
              "      <th>count</th>\n",
              "      <td>89234.0</td>\n",
              "      <td>89234.000000</td>\n",
              "      <td>89234.000000</td>\n",
              "    </tr>\n",
              "    <tr>\n",
              "      <th>mean</th>\n",
              "      <td>1.0</td>\n",
              "      <td>13.594941</td>\n",
              "      <td>56.645507</td>\n",
              "    </tr>\n",
              "    <tr>\n",
              "      <th>std</th>\n",
              "      <td>0.0</td>\n",
              "      <td>5.259049</td>\n",
              "      <td>21.912567</td>\n",
              "    </tr>\n",
              "    <tr>\n",
              "      <th>min</th>\n",
              "      <td>1.0</td>\n",
              "      <td>0.000000</td>\n",
              "      <td>0.000000</td>\n",
              "    </tr>\n",
              "    <tr>\n",
              "      <th>25%</th>\n",
              "      <td>1.0</td>\n",
              "      <td>9.000000</td>\n",
              "      <td>37.500000</td>\n",
              "    </tr>\n",
              "    <tr>\n",
              "      <th>50%</th>\n",
              "      <td>1.0</td>\n",
              "      <td>14.000000</td>\n",
              "      <td>58.300000</td>\n",
              "    </tr>\n",
              "    <tr>\n",
              "      <th>75%</th>\n",
              "      <td>1.0</td>\n",
              "      <td>18.000000</td>\n",
              "      <td>75.000000</td>\n",
              "    </tr>\n",
              "    <tr>\n",
              "      <th>max</th>\n",
              "      <td>1.0</td>\n",
              "      <td>24.000000</td>\n",
              "      <td>100.000000</td>\n",
              "    </tr>\n",
              "  </tbody>\n",
              "</table>\n",
              "</div>\n",
              "      <button class=\"colab-df-convert\" onclick=\"convertToInteractive('df-e99e3136-e9e5-413d-86ff-2d5a1eea5f4c')\"\n",
              "              title=\"Convert this dataframe to an interactive table.\"\n",
              "              style=\"display:none;\">\n",
              "        \n",
              "  <svg xmlns=\"http://www.w3.org/2000/svg\" height=\"24px\"viewBox=\"0 0 24 24\"\n",
              "       width=\"24px\">\n",
              "    <path d=\"M0 0h24v24H0V0z\" fill=\"none\"/>\n",
              "    <path d=\"M18.56 5.44l.94 2.06.94-2.06 2.06-.94-2.06-.94-.94-2.06-.94 2.06-2.06.94zm-11 1L8.5 8.5l.94-2.06 2.06-.94-2.06-.94L8.5 2.5l-.94 2.06-2.06.94zm10 10l.94 2.06.94-2.06 2.06-.94-2.06-.94-.94-2.06-.94 2.06-2.06.94z\"/><path d=\"M17.41 7.96l-1.37-1.37c-.4-.4-.92-.59-1.43-.59-.52 0-1.04.2-1.43.59L10.3 9.45l-7.72 7.72c-.78.78-.78 2.05 0 2.83L4 21.41c.39.39.9.59 1.41.59.51 0 1.02-.2 1.41-.59l7.78-7.78 2.81-2.81c.8-.78.8-2.07 0-2.86zM5.41 20L4 18.59l7.72-7.72 1.47 1.35L5.41 20z\"/>\n",
              "  </svg>\n",
              "      </button>\n",
              "      \n",
              "  <style>\n",
              "    .colab-df-container {\n",
              "      display:flex;\n",
              "      flex-wrap:wrap;\n",
              "      gap: 12px;\n",
              "    }\n",
              "\n",
              "    .colab-df-convert {\n",
              "      background-color: #E8F0FE;\n",
              "      border: none;\n",
              "      border-radius: 50%;\n",
              "      cursor: pointer;\n",
              "      display: none;\n",
              "      fill: #1967D2;\n",
              "      height: 32px;\n",
              "      padding: 0 0 0 0;\n",
              "      width: 32px;\n",
              "    }\n",
              "\n",
              "    .colab-df-convert:hover {\n",
              "      background-color: #E2EBFA;\n",
              "      box-shadow: 0px 1px 2px rgba(60, 64, 67, 0.3), 0px 1px 3px 1px rgba(60, 64, 67, 0.15);\n",
              "      fill: #174EA6;\n",
              "    }\n",
              "\n",
              "    [theme=dark] .colab-df-convert {\n",
              "      background-color: #3B4455;\n",
              "      fill: #D2E3FC;\n",
              "    }\n",
              "\n",
              "    [theme=dark] .colab-df-convert:hover {\n",
              "      background-color: #434B5C;\n",
              "      box-shadow: 0px 1px 3px 1px rgba(0, 0, 0, 0.15);\n",
              "      filter: drop-shadow(0px 1px 2px rgba(0, 0, 0, 0.3));\n",
              "      fill: #FFFFFF;\n",
              "    }\n",
              "  </style>\n",
              "\n",
              "      <script>\n",
              "        const buttonEl =\n",
              "          document.querySelector('#df-e99e3136-e9e5-413d-86ff-2d5a1eea5f4c button.colab-df-convert');\n",
              "        buttonEl.style.display =\n",
              "          google.colab.kernel.accessAllowed ? 'block' : 'none';\n",
              "\n",
              "        async function convertToInteractive(key) {\n",
              "          const element = document.querySelector('#df-e99e3136-e9e5-413d-86ff-2d5a1eea5f4c');\n",
              "          const dataTable =\n",
              "            await google.colab.kernel.invokeFunction('convertToInteractive',\n",
              "                                                     [key], {});\n",
              "          if (!dataTable) return;\n",
              "\n",
              "          const docLinkHtml = 'Like what you see? Visit the ' +\n",
              "            '<a target=\"_blank\" href=https://colab.research.google.com/notebooks/data_table.ipynb>data table notebook</a>'\n",
              "            + ' to learn more about interactive tables.';\n",
              "          element.innerHTML = '';\n",
              "          dataTable['output_type'] = 'display_data';\n",
              "          await google.colab.output.renderOutput(dataTable, element);\n",
              "          const docLink = document.createElement('div');\n",
              "          docLink.innerHTML = docLinkHtml;\n",
              "          element.appendChild(docLink);\n",
              "        }\n",
              "      </script>\n",
              "    </div>\n",
              "  </div>\n",
              "  "
            ]
          },
          "metadata": {},
          "execution_count": 6
        }
      ]
    },
    {
      "cell_type": "code",
      "source": [
        "plt.hist(interior['ACERTOS (Total de questões: 24)'],bins=50)\n",
        "plt.xlabel(\"Número de acertos\")\n",
        "plt.ylabel(\"Frequência\")\n",
        "plt.title(\"Interior - acertos por número de alunos\")"
      ],
      "metadata": {
        "colab": {
          "base_uri": "https://localhost:8080/",
          "height": 312
        },
        "id": "ea_6yhh9x2_7",
        "outputId": "b1eb1f86-0d78-4b7b-db72-d517e6360216"
      },
      "execution_count": null,
      "outputs": [
        {
          "output_type": "execute_result",
          "data": {
            "text/plain": [
              "Text(0.5, 1.0, 'Interior - acertos por número de alunos')"
            ]
          },
          "metadata": {},
          "execution_count": 10
        },
        {
          "output_type": "display_data",
          "data": {
            "text/plain": [
              "<Figure size 432x288 with 1 Axes>"
            ],
            "image/png": "[encoded data removed]"
          },
          "metadata": {
            "needs_background": "light"
          }
        }
      ]
    },
    {
      "cell_type": "code",
      "source": [
        "# 89.234 pessoas no interior\n",
        "interior[interior[\"STATUS\"] == \"Abaixo do Básico\"] # 25064 pessoas (28,09%) do interior abaixo do básico\n",
        "\n",
        "interior[interior[\"STATUS\"] == \"Básico\"] #40.967 pessoas (45,91%) do interior tiveram desempenho basico\n",
        "\n",
        "interior[interior[\"STATUS\"] == \"Adequado\"] #20.109 pessoas (22,54%) do interior tiveram desempenho adequado\n",
        "\n",
        "interior[interior[\"STATUS\"] == \"Avançado\"] #3094 pessoas (3,47%) do interior tiveram desempenho avançado\n",
        "\n",
        "\n",
        "alunos = [28.09,45.91,22.54,3.47] #valores de Y\n",
        "nivel = ['Abaixo do básico' , 'Básico','Adequado','Avançado'] #valores de x\n",
        "y = [0,5,10,15,20,25,30,35,40,45,50]\n",
        "plt.bar(nivel, alunos, color=\"purple\")\n",
        "plt.xticks(nivel)\n",
        "plt.yticks(y)\n",
        "plt.ylabel(\"Alunos(%)\")\n",
        "plt.xlabel(\"Desempenho\")\n",
        "plt.title(\"Desempenho SARESP 2021 - Interior\")\n",
        "plt.show()"
      ],
      "metadata": {
        "colab": {
          "base_uri": "https://localhost:8080/",
          "height": 295
        },
        "id": "q7f9yv_jVrgv",
        "outputId": "2703332f-8afe-410e-e272-938b68c42c2f"
      },
      "execution_count": null,
      "outputs": [
        {
          "output_type": "display_data",
          "data": {
            "text/plain": [
              "<Figure size 432x288 with 1 Axes>"
            ],
            "image/png": "[encoded data removed]"
          },
          "metadata": {
            "needs_background": "light"
          }
        }
      ]
    },
    {
      "cell_type": "code",
      "source": [
        "#BAIXADA SANTISTA (16.462 pessoas)\n",
        "presentes[presentes[\"REGIÃO METROPOLITANA DE SÃO PAULO\"] == \"Região Metropolitana da Baixada Santista\"].shape\n",
        "\n",
        "#Desempenho médio:\n",
        "baixada = presentes[presentes[\"REGIÃO METROPOLITANA DE SÃO PAULO\"] == \"Região Metropolitana da Baixada Santista\"]\n",
        "baixada.describe()#Desempenho médio : 54,7% de acerto , média de 13 acertos\n",
        "\n",
        "\n",
        "\n"
      ],
      "metadata": {
        "colab": {
          "base_uri": "https://localhost:8080/",
          "height": 300
        },
        "id": "VEvgqXtpZYmt",
        "outputId": "1eb33f26-0c0e-4d2e-eab6-bb1b83cb464d"
      },
      "execution_count": null,
      "outputs": [
        {
          "output_type": "execute_result",
          "data": {
            "text/plain": [
              "       REALIZOU O EXAME (S=1, N=0)  ACERTOS (Total de questões: 24)  \\\n",
              "count                      16462.0                     16462.000000   \n",
              "mean                           1.0                        13.141599   \n",
              "std                            0.0                         5.227286   \n",
              "min                            1.0                         0.000000   \n",
              "25%                            1.0                         9.000000   \n",
              "50%                            1.0                        13.000000   \n",
              "75%                            1.0                        17.000000   \n",
              "max                            1.0                        24.000000   \n",
              "\n",
              "       PORCENTAGEM DE ACERTOS  \n",
              "count            16462.000000  \n",
              "mean                54.756907  \n",
              "std                 21.780070  \n",
              "min                  0.000000  \n",
              "25%                 37.500000  \n",
              "50%                 54.200000  \n",
              "75%                 70.800000  \n",
              "max                100.000000  "
            ],
            "text/html": [
              "\n",
              "  <div id=\"df-e770bdc0-321c-4fc6-aeea-ad1ad56334e5\">\n",
              "    <div class=\"colab-df-container\">\n",
              "      <div>\n",
              "<style scoped>\n",
              "    .dataframe tbody tr th:only-of-type {\n",
              "        vertical-align: middle;\n",
              "    }\n",
              "\n",
              "    .dataframe tbody tr th {\n",
              "        vertical-align: top;\n",
              "    }\n",
              "\n",
              "    .dataframe thead th {\n",
              "        text-align: right;\n",
              "    }\n",
              "</style>\n",
              "<table border=\"1\" class=\"dataframe\">\n",
              "  <thead>\n",
              "    <tr style=\"text-align: right;\">\n",
              "      <th></th>\n",
              "      <th>REALIZOU O EXAME (S=1, N=0)</th>\n",
              "      <th>ACERTOS (Total de questões: 24)</th>\n",
              "      <th>PORCENTAGEM DE ACERTOS</th>\n",
              "    </tr>\n",
              "  </thead>\n",
              "  <tbody>\n",
              "    <tr>\n",
              "      <th>count</th>\n",
              "      <td>16462.0</td>\n",
              "      <td>16462.000000</td>\n",
              "      <td>16462.000000</td>\n",
              "    </tr>\n",
              "    <tr>\n",
              "      <th>mean</th>\n",
              "      <td>1.0</td>\n",
              "      <td>13.141599</td>\n",
              "      <td>54.756907</td>\n",
              "    </tr>\n",
              "    <tr>\n",
              "      <th>std</th>\n",
              "      <td>0.0</td>\n",
              "      <td>5.227286</td>\n",
              "      <td>21.780070</td>\n",
              "    </tr>\n",
              "    <tr>\n",
              "      <th>min</th>\n",
              "      <td>1.0</td>\n",
              "      <td>0.000000</td>\n",
              "      <td>0.000000</td>\n",
              "    </tr>\n",
              "    <tr>\n",
              "      <th>25%</th>\n",
              "      <td>1.0</td>\n",
              "      <td>9.000000</td>\n",
              "      <td>37.500000</td>\n",
              "    </tr>\n",
              "    <tr>\n",
              "      <th>50%</th>\n",
              "      <td>1.0</td>\n",
              "      <td>13.000000</td>\n",
              "      <td>54.200000</td>\n",
              "    </tr>\n",
              "    <tr>\n",
              "      <th>75%</th>\n",
              "      <td>1.0</td>\n",
              "      <td>17.000000</td>\n",
              "      <td>70.800000</td>\n",
              "    </tr>\n",
              "    <tr>\n",
              "      <th>max</th>\n",
              "      <td>1.0</td>\n",
              "      <td>24.000000</td>\n",
              "      <td>100.000000</td>\n",
              "    </tr>\n",
              "  </tbody>\n",
              "</table>\n",
              "</div>\n",
              "      <button class=\"colab-df-convert\" onclick=\"convertToInteractive('df-e770bdc0-321c-4fc6-aeea-ad1ad56334e5')\"\n",
              "              title=\"Convert this dataframe to an interactive table.\"\n",
              "              style=\"display:none;\">\n",
              "        \n",
              "  <svg xmlns=\"http://www.w3.org/2000/svg\" height=\"24px\"viewBox=\"0 0 24 24\"\n",
              "       width=\"24px\">\n",
              "    <path d=\"M0 0h24v24H0V0z\" fill=\"none\"/>\n",
              "    <path d=\"M18.56 5.44l.94 2.06.94-2.06 2.06-.94-2.06-.94-.94-2.06-.94 2.06-2.06.94zm-11 1L8.5 8.5l.94-2.06 2.06-.94-2.06-.94L8.5 2.5l-.94 2.06-2.06.94zm10 10l.94 2.06.94-2.06 2.06-.94-2.06-.94-.94-2.06-.94 2.06-2.06.94z\"/><path d=\"M17.41 7.96l-1.37-1.37c-.4-.4-.92-.59-1.43-.59-.52 0-1.04.2-1.43.59L10.3 9.45l-7.72 7.72c-.78.78-.78 2.05 0 2.83L4 21.41c.39.39.9.59 1.41.59.51 0 1.02-.2 1.41-.59l7.78-7.78 2.81-2.81c.8-.78.8-2.07 0-2.86zM5.41 20L4 18.59l7.72-7.72 1.47 1.35L5.41 20z\"/>\n",
              "  </svg>\n",
              "      </button>\n",
              "      \n",
              "  <style>\n",
              "    .colab-df-container {\n",
              "      display:flex;\n",
              "      flex-wrap:wrap;\n",
              "      gap: 12px;\n",
              "    }\n",
              "\n",
              "    .colab-df-convert {\n",
              "      background-color: #E8F0FE;\n",
              "      border: none;\n",
              "      border-radius: 50%;\n",
              "      cursor: pointer;\n",
              "      display: none;\n",
              "      fill: #1967D2;\n",
              "      height: 32px;\n",
              "      padding: 0 0 0 0;\n",
              "      width: 32px;\n",
              "    }\n",
              "\n",
              "    .colab-df-convert:hover {\n",
              "      background-color: #E2EBFA;\n",
              "      box-shadow: 0px 1px 2px rgba(60, 64, 67, 0.3), 0px 1px 3px 1px rgba(60, 64, 67, 0.15);\n",
              "      fill: #174EA6;\n",
              "    }\n",
              "\n",
              "    [theme=dark] .colab-df-convert {\n",
              "      background-color: #3B4455;\n",
              "      fill: #D2E3FC;\n",
              "    }\n",
              "\n",
              "    [theme=dark] .colab-df-convert:hover {\n",
              "      background-color: #434B5C;\n",
              "      box-shadow: 0px 1px 3px 1px rgba(0, 0, 0, 0.15);\n",
              "      filter: drop-shadow(0px 1px 2px rgba(0, 0, 0, 0.3));\n",
              "      fill: #FFFFFF;\n",
              "    }\n",
              "  </style>\n",
              "\n",
              "      <script>\n",
              "        const buttonEl =\n",
              "          document.querySelector('#df-e770bdc0-321c-4fc6-aeea-ad1ad56334e5 button.colab-df-convert');\n",
              "        buttonEl.style.display =\n",
              "          google.colab.kernel.accessAllowed ? 'block' : 'none';\n",
              "\n",
              "        async function convertToInteractive(key) {\n",
              "          const element = document.querySelector('#df-e770bdc0-321c-4fc6-aeea-ad1ad56334e5');\n",
              "          const dataTable =\n",
              "            await google.colab.kernel.invokeFunction('convertToInteractive',\n",
              "                                                     [key], {});\n",
              "          if (!dataTable) return;\n",
              "\n",
              "          const docLinkHtml = 'Like what you see? Visit the ' +\n",
              "            '<a target=\"_blank\" href=https://colab.research.google.com/notebooks/data_table.ipynb>data table notebook</a>'\n",
              "            + ' to learn more about interactive tables.';\n",
              "          element.innerHTML = '';\n",
              "          dataTable['output_type'] = 'display_data';\n",
              "          await google.colab.output.renderOutput(dataTable, element);\n",
              "          const docLink = document.createElement('div');\n",
              "          docLink.innerHTML = docLinkHtml;\n",
              "          element.appendChild(docLink);\n",
              "        }\n",
              "      </script>\n",
              "    </div>\n",
              "  </div>\n",
              "  "
            ]
          },
          "metadata": {},
          "execution_count": 25
        }
      ]
    },
    {
      "cell_type": "code",
      "source": [
        "plt.hist(baixada[\"ACERTOS (Total de questões: 24)\"],bins=45)\n",
        "plt.xlabel(\"Número de acertos\")\n",
        "plt.ylabel(\"Frequência\")\n",
        "plt.title(\"Baixada santista - acertos por número de alunos\")"
      ],
      "metadata": {
        "colab": {
          "base_uri": "https://localhost:8080/",
          "height": 312
        },
        "id": "DvLb5uWibYMQ",
        "outputId": "e7be775e-0ae9-4e05-e244-6edad3cb7aec"
      },
      "execution_count": null,
      "outputs": [
        {
          "output_type": "execute_result",
          "data": {
            "text/plain": [
              "Text(0.5, 1.0, 'Baixada santista - acertos por número de alunos')"
            ]
          },
          "metadata": {},
          "execution_count": 13
        },
        {
          "output_type": "display_data",
          "data": {
            "text/plain": [
              "<Figure size 432x288 with 1 Axes>"
            ],
            "image/png": "[encoded data removed]"
          },
          "metadata": {
            "needs_background": "light"
          }
        }
      ]
    },
    {
      "cell_type": "code",
      "source": [],
      "metadata": {
        "id": "mnzczp4p3v2_"
      },
      "execution_count": null,
      "outputs": []
    },
    {
      "cell_type": "code",
      "source": [
        "#16.462 pessoas são da baixada\n",
        "\n",
        "baixada[baixada[\"STATUS\"] == \"Abaixo do Básico\"] # 5283   pessoas (32,09%) do  abaixo do básico\n",
        "\n",
        "baixada[baixada[\"STATUS\"] == \"Básico\"] # 7371 pessoas (44,78%) do  tiveram desempenho basico\n",
        "\n",
        "baixada[baixada[\"STATUS\"] == \"Adequado\"] # 3482   pessoas (21,15%) do  tiveram desempenho adequado\n",
        "\n",
        "baixada[baixada[\"STATUS\"] == \"Avançado\"] #  326 pessoas (1,98%) do  tiveram desempenho avançado\n",
        "\n",
        "\n",
        "\n",
        "alunos = [32.09,44.78,21.15,1.98] #valores de Y\n",
        "nivel = ['Abaixo do básico' , 'Básico','Adequado','Avançado'] #valores de x\n",
        "y = [0,5,10,15,20,25,30,35,40,45,50]\n",
        "plt.bar(nivel, alunos, color=\"blue\")\n",
        "plt.xticks(nivel)\n",
        "plt.yticks(y)\n",
        "plt.ylabel(\"Alunos(%)\")\n",
        "plt.xlabel(\"Desempenho\")\n",
        "plt.title(\"Desempenho SARESP 2021 - Baixada santista\")\n",
        "plt.show()\n"
      ],
      "metadata": {
        "colab": {
          "base_uri": "https://localhost:8080/",
          "height": 295
        },
        "id": "e9zwhy6edJaM",
        "outputId": "0d5a976d-b03d-4313-b401-3d9462fa47d9"
      },
      "execution_count": null,
      "outputs": [
        {
          "output_type": "display_data",
          "data": {
            "text/plain": [
              "<Figure size 432x288 with 1 Axes>"
            ],
            "image/png": "[encoded data removed]"
          },
          "metadata": {
            "needs_background": "light"
          }
        }
      ]
    },
    {
      "cell_type": "code",
      "source": [
        "#CAMPINAS: 10.991 pessoas\n",
        "#desempenho médio: 58,15% de acertos, com desvio padrão 21\n",
        "campinas = presentes[presentes[\"REGIÃO METROPOLITANA DE SÃO PAULO\"] == \"Região Metropolitana de Campinas\"]\n",
        "campinas.describe()\n",
        "\n"
      ],
      "metadata": {
        "colab": {
          "base_uri": "https://localhost:8080/",
          "height": 300
        },
        "id": "4AF5rKLtqq9W",
        "outputId": "d00906a7-dcf1-4801-d810-f768d4e5c5cb"
      },
      "execution_count": null,
      "outputs": [
        {
          "output_type": "execute_result",
          "data": {
            "text/plain": [
              "       REALIZOU O EXAME (S=1, N=0)  ACERTOS (Total de questões: 24)  \\\n",
              "count                      10991.0                     10991.000000   \n",
              "mean                           1.0                        13.957056   \n",
              "std                            0.0                         5.160268   \n",
              "min                            1.0                         0.000000   \n",
              "25%                            1.0                        10.000000   \n",
              "50%                            1.0                        14.000000   \n",
              "75%                            1.0                        18.000000   \n",
              "max                            1.0                        24.000000   \n",
              "\n",
              "       PORCENTAGEM DE ACERTOS  \n",
              "count            10991.000000  \n",
              "mean                58.154226  \n",
              "std                 21.500677  \n",
              "min                  0.000000  \n",
              "25%                 41.700000  \n",
              "50%                 58.300000  \n",
              "75%                 75.000000  \n",
              "max                100.000000  "
            ],
            "text/html": [
              "\n",
              "  <div id=\"df-7a2d5e3c-31ac-4160-9b71-c3ccc41e06dd\">\n",
              "    <div class=\"colab-df-container\">\n",
              "      <div>\n",
              "<style scoped>\n",
              "    .dataframe tbody tr th:only-of-type {\n",
              "        vertical-align: middle;\n",
              "    }\n",
              "\n",
              "    .dataframe tbody tr th {\n",
              "        vertical-align: top;\n",
              "    }\n",
              "\n",
              "    .dataframe thead th {\n",
              "        text-align: right;\n",
              "    }\n",
              "</style>\n",
              "<table border=\"1\" class=\"dataframe\">\n",
              "  <thead>\n",
              "    <tr style=\"text-align: right;\">\n",
              "      <th></th>\n",
              "      <th>REALIZOU O EXAME (S=1, N=0)</th>\n",
              "      <th>ACERTOS (Total de questões: 24)</th>\n",
              "      <th>PORCENTAGEM DE ACERTOS</th>\n",
              "    </tr>\n",
              "  </thead>\n",
              "  <tbody>\n",
              "    <tr>\n",
              "      <th>count</th>\n",
              "      <td>10991.0</td>\n",
              "      <td>10991.000000</td>\n",
              "      <td>10991.000000</td>\n",
              "    </tr>\n",
              "    <tr>\n",
              "      <th>mean</th>\n",
              "      <td>1.0</td>\n",
              "      <td>13.957056</td>\n",
              "      <td>58.154226</td>\n",
              "    </tr>\n",
              "    <tr>\n",
              "      <th>std</th>\n",
              "      <td>0.0</td>\n",
              "      <td>5.160268</td>\n",
              "      <td>21.500677</td>\n",
              "    </tr>\n",
              "    <tr>\n",
              "      <th>min</th>\n",
              "      <td>1.0</td>\n",
              "      <td>0.000000</td>\n",
              "      <td>0.000000</td>\n",
              "    </tr>\n",
              "    <tr>\n",
              "      <th>25%</th>\n",
              "      <td>1.0</td>\n",
              "      <td>10.000000</td>\n",
              "      <td>41.700000</td>\n",
              "    </tr>\n",
              "    <tr>\n",
              "      <th>50%</th>\n",
              "      <td>1.0</td>\n",
              "      <td>14.000000</td>\n",
              "      <td>58.300000</td>\n",
              "    </tr>\n",
              "    <tr>\n",
              "      <th>75%</th>\n",
              "      <td>1.0</td>\n",
              "      <td>18.000000</td>\n",
              "      <td>75.000000</td>\n",
              "    </tr>\n",
              "    <tr>\n",
              "      <th>max</th>\n",
              "      <td>1.0</td>\n",
              "      <td>24.000000</td>\n",
              "      <td>100.000000</td>\n",
              "    </tr>\n",
              "  </tbody>\n",
              "</table>\n",
              "</div>\n",
              "      <button class=\"colab-df-convert\" onclick=\"convertToInteractive('df-7a2d5e3c-31ac-4160-9b71-c3ccc41e06dd')\"\n",
              "              title=\"Convert this dataframe to an interactive table.\"\n",
              "              style=\"display:none;\">\n",
              "        \n",
              "  <svg xmlns=\"http://www.w3.org/2000/svg\" height=\"24px\"viewBox=\"0 0 24 24\"\n",
              "       width=\"24px\">\n",
              "    <path d=\"M0 0h24v24H0V0z\" fill=\"none\"/>\n",
              "    <path d=\"M18.56 5.44l.94 2.06.94-2.06 2.06-.94-2.06-.94-.94-2.06-.94 2.06-2.06.94zm-11 1L8.5 8.5l.94-2.06 2.06-.94-2.06-.94L8.5 2.5l-.94 2.06-2.06.94zm10 10l.94 2.06.94-2.06 2.06-.94-2.06-.94-.94-2.06-.94 2.06-2.06.94z\"/><path d=\"M17.41 7.96l-1.37-1.37c-.4-.4-.92-.59-1.43-.59-.52 0-1.04.2-1.43.59L10.3 9.45l-7.72 7.72c-.78.78-.78 2.05 0 2.83L4 21.41c.39.39.9.59 1.41.59.51 0 1.02-.2 1.41-.59l7.78-7.78 2.81-2.81c.8-.78.8-2.07 0-2.86zM5.41 20L4 18.59l7.72-7.72 1.47 1.35L5.41 20z\"/>\n",
              "  </svg>\n",
              "      </button>\n",
              "      \n",
              "  <style>\n",
              "    .colab-df-container {\n",
              "      display:flex;\n",
              "      flex-wrap:wrap;\n",
              "      gap: 12px;\n",
              "    }\n",
              "\n",
              "    .colab-df-convert {\n",
              "      background-color: #E8F0FE;\n",
              "      border: none;\n",
              "      border-radius: 50%;\n",
              "      cursor: pointer;\n",
              "      display: none;\n",
              "      fill: #1967D2;\n",
              "      height: 32px;\n",
              "      padding: 0 0 0 0;\n",
              "      width: 32px;\n",
              "    }\n",
              "\n",
              "    .colab-df-convert:hover {\n",
              "      background-color: #E2EBFA;\n",
              "      box-shadow: 0px 1px 2px rgba(60, 64, 67, 0.3), 0px 1px 3px 1px rgba(60, 64, 67, 0.15);\n",
              "      fill: #174EA6;\n",
              "    }\n",
              "\n",
              "    [theme=dark] .colab-df-convert {\n",
              "      background-color: #3B4455;\n",
              "      fill: #D2E3FC;\n",
              "    }\n",
              "\n",
              "    [theme=dark] .colab-df-convert:hover {\n",
              "      background-color: #434B5C;\n",
              "      box-shadow: 0px 1px 3px 1px rgba(0, 0, 0, 0.15);\n",
              "      filter: drop-shadow(0px 1px 2px rgba(0, 0, 0, 0.3));\n",
              "      fill: #FFFFFF;\n",
              "    }\n",
              "  </style>\n",
              "\n",
              "      <script>\n",
              "        const buttonEl =\n",
              "          document.querySelector('#df-7a2d5e3c-31ac-4160-9b71-c3ccc41e06dd button.colab-df-convert');\n",
              "        buttonEl.style.display =\n",
              "          google.colab.kernel.accessAllowed ? 'block' : 'none';\n",
              "\n",
              "        async function convertToInteractive(key) {\n",
              "          const element = document.querySelector('#df-7a2d5e3c-31ac-4160-9b71-c3ccc41e06dd');\n",
              "          const dataTable =\n",
              "            await google.colab.kernel.invokeFunction('convertToInteractive',\n",
              "                                                     [key], {});\n",
              "          if (!dataTable) return;\n",
              "\n",
              "          const docLinkHtml = 'Like what you see? Visit the ' +\n",
              "            '<a target=\"_blank\" href=https://colab.research.google.com/notebooks/data_table.ipynb>data table notebook</a>'\n",
              "            + ' to learn more about interactive tables.';\n",
              "          element.innerHTML = '';\n",
              "          dataTable['output_type'] = 'display_data';\n",
              "          await google.colab.output.renderOutput(dataTable, element);\n",
              "          const docLink = document.createElement('div');\n",
              "          docLink.innerHTML = docLinkHtml;\n",
              "          element.appendChild(docLink);\n",
              "        }\n",
              "      </script>\n",
              "    </div>\n",
              "  </div>\n",
              "  "
            ]
          },
          "metadata": {},
          "execution_count": 14
        }
      ]
    },
    {
      "cell_type": "code",
      "source": [
        "scipy.stats.probplot(baixada['ACERTOS (Total de questões: 24)'],plot=plt)\n",
        "plt.title(\"Probabilidade normal - Acertos em português - Baixada santista\")\n",
        "plt.show()"
      ],
      "metadata": {
        "colab": {
          "base_uri": "https://localhost:8080/",
          "height": 295
        },
        "id": "y0Cgr7nA31RW",
        "outputId": "060d375f-dd96-40e2-e0ee-b5bcccad119c"
      },
      "execution_count": null,
      "outputs": [
        {
          "output_type": "display_data",
          "data": {
            "text/plain": [
              "<Figure size 432x288 with 1 Axes>"
            ],
            "image/png": "[encoded data removed]"
          },
          "metadata": {
            "needs_background": "light"
          }
        }
      ]
    },
    {
      "cell_type": "code",
      "source": [
        "plt.hist(campinas[\"ACERTOS (Total de questões: 24)\"],bins=45)\n",
        "plt.xlabel(\"Número de acertos\")\n",
        "plt.ylabel(\"Frequência\")\n",
        "plt.title(\"Campinas - acertos por número de alunos\")"
      ],
      "metadata": {
        "colab": {
          "base_uri": "https://localhost:8080/",
          "height": 312
        },
        "id": "mOz2g2yOrVkO",
        "outputId": "eb2a5713-0399-4dc2-84f0-f9f5695c8cf4"
      },
      "execution_count": null,
      "outputs": [
        {
          "output_type": "execute_result",
          "data": {
            "text/plain": [
              "Text(0.5, 1.0, 'Campinas - acertos por número de alunos')"
            ]
          },
          "metadata": {},
          "execution_count": 16
        },
        {
          "output_type": "display_data",
          "data": {
            "text/plain": [
              "<Figure size 432x288 with 1 Axes>"
            ],
            "image/png": "[encoded data removed]"
          },
          "metadata": {
            "needs_background": "light"
          }
        }
      ]
    },
    {
      "cell_type": "code",
      "source": [
        "campinas[campinas[\"STATUS\"] == \"Abaixo do Básico\"] #2784   pessoas (25,33%) do  abaixo do básico\n",
        "\n",
        "campinas[campinas[\"STATUS\"] == \"Básico\"] # 5124 pessoas (46,62 %) de campinas tiveram desempenho basico\n",
        "\n",
        "campinas[campinas[\"STATUS\"] == \"Adequado\"] # 2705 pessoas (24,61%) de campinas tiveram desempenho adequado\n",
        "\n",
        "campinas[campinas[\"STATUS\"] == \"Avançado\"] #  378 pessoas (3,44 %) de campinas tiveram desempenho avançado\n",
        "\n",
        "\n",
        "alunos_campinas = [32.09,44.78,21.15,1.98] #valores de Y\n",
        "nivel = ['Abaixo do básico' , 'Básico','Adequado','Avançado'] #valores de x\n",
        "y = [0,5,10,15,20,25,30,35,40,45,50]\n",
        "plt.bar(nivel, alunos, color=\"orange\")\n",
        "plt.xticks(nivel)\n",
        "plt.yticks(y)\n",
        "plt.ylabel(\"Alunos(%)\")\n",
        "plt.xlabel(\"Desempenho\")\n",
        "plt.title(\"Desempenho SARESP 2021 - Campinas\")\n",
        "plt.show()\n",
        "\n",
        "\n",
        "\n"
      ],
      "metadata": {
        "colab": {
          "base_uri": "https://localhost:8080/",
          "height": 295
        },
        "id": "Qisiz19CroRF",
        "outputId": "312869b6-453e-4fde-c55f-5f31a7df1062"
      },
      "execution_count": null,
      "outputs": [
        {
          "output_type": "display_data",
          "data": {
            "text/plain": [
              "<Figure size 432x288 with 1 Axes>"
            ],
            "image/png": "[encoded data removed]"
          },
          "metadata": {
            "needs_background": "light"
          }
        }
      ]
    },
    {
      "cell_type": "code",
      "source": [
        "#RIBEIRAO PRETO: 15.497 pessoas\n",
        "ribeirao = presentes[presentes[\"REGIÃO METROPOLITANA DE SÃO PAULO\"] == \"Região Metropolitana de Ribeirão Preto\"]\n",
        "ribeirao.describe() # média de 55,7%, com desvio padrão de 22%\n",
        "\n",
        "plt.hist(ribeirao[\"ACERTOS (Total de questões: 24)\"],bins=45)\n",
        "plt.xlabel(\"Número de acertos\")\n",
        "plt.ylabel(\"Frequência\")\n",
        "plt.title(\"Ribeirão Preto - acertos por número de alunos\")"
      ],
      "metadata": {
        "colab": {
          "base_uri": "https://localhost:8080/",
          "height": 312
        },
        "id": "J_aVlgH5Agyd",
        "outputId": "a281132e-d0be-429c-8a8c-f491f84fc847"
      },
      "execution_count": null,
      "outputs": [
        {
          "output_type": "execute_result",
          "data": {
            "text/plain": [
              "Text(0.5, 1.0, 'Ribeirão Preto - acertos por número de alunos')"
            ]
          },
          "metadata": {},
          "execution_count": 11
        },
        {
          "output_type": "display_data",
          "data": {
            "text/plain": [
              "<Figure size 432x288 with 1 Axes>"
            ],
            "image/png": "[encoded data removed]"
          },
          "metadata": {
            "needs_background": "light"
          }
        }
      ]
    },
    {
      "cell_type": "code",
      "source": [
        "scipy.stats.probplot(terceirao['ACERTOS (Total de questões: 24)'],fit=True,plot=plt)\n",
        "plt.title(\"Probabilidade normal - Acertos em português - EM'3ª série\")\n",
        "plt.show()"
      ],
      "metadata": {
        "id": "GeXJgmAHRSyj",
        "colab": {
          "base_uri": "https://localhost:8080/",
          "height": 295
        },
        "outputId": "7eb5607f-1781-47d8-b3dc-cf0130a94927"
      },
      "execution_count": null,
      "outputs": [
        {
          "output_type": "display_data",
          "data": {
            "text/plain": [
              "<Figure size 432x288 with 1 Axes>"
            ],
            "image/png": "[encoded data removed]"
          },
          "metadata": {
            "needs_background": "light"
          }
        }
      ]
    },
    {
      "cell_type": "code",
      "source": [
        "scipy.stats.probplot(nono['ACERTOS (Total de questões: 24)'],fit=True,plot=plt)\n",
        "plt.title(\"Probabilidade normal - Acertos em português - Nona série\")\n",
        "plt.show()"
      ],
      "metadata": {
        "colab": {
          "base_uri": "https://localhost:8080/",
          "height": 295
        },
        "id": "im3uE-5awfa-",
        "outputId": "15f820b2-fb21-45f8-d082-980acaeea5d7"
      },
      "execution_count": null,
      "outputs": [
        {
          "output_type": "display_data",
          "data": {
            "text/plain": [
              "<Figure size 432x288 with 1 Axes>"
            ],
            "image/png": "[encoded data removed]"
          },
          "metadata": {
            "needs_background": "light"
          }
        }
      ]
    },
    {
      "cell_type": "code",
      "source": [
        "scipy.stats.probplot(ribeirao['ACERTOS (Total de questões: 24)'],fit=True,plot=plt)\n",
        "plt.title(\"Probabilidade normal - Acertos em português - Ribeirão Preto\")\n",
        "plt.show()"
      ],
      "metadata": {
        "colab": {
          "base_uri": "https://localhost:8080/",
          "height": 295
        },
        "id": "KN5GpF7fw68m",
        "outputId": "eaebec17-e8db-4499-f7a2-cd25b0738cbb"
      },
      "execution_count": null,
      "outputs": [
        {
          "output_type": "display_data",
          "data": {
            "text/plain": [
              "<Figure size 432x288 with 1 Axes>"
            ],
            "image/png": "[encoded data removed]"
          },
          "metadata": {
            "needs_background": "light"
          }
        }
      ]
    },
    {
      "cell_type": "code",
      "source": [
        "scipy.stats.probplot(sorocaba['ACERTOS (Total de questões: 24)'],fit=True,plot=plt)\n",
        "plt.title(\"Probabilidade normal - Acertos em português - Sorocaba\")\n",
        "plt.show()"
      ],
      "metadata": {
        "colab": {
          "base_uri": "https://localhost:8080/",
          "height": 295
        },
        "id": "HQsYRgpxxB8t",
        "outputId": "b108d7f9-a574-4cd8-e570-382b86443c1f"
      },
      "execution_count": null,
      "outputs": [
        {
          "output_type": "display_data",
          "data": {
            "text/plain": [
              "<Figure size 432x288 with 1 Axes>"
            ],
            "image/png": "[encoded data removed]"
          },
          "metadata": {
            "needs_background": "light"
          }
        }
      ]
    },
    {
      "cell_type": "code",
      "source": [
        "ribeirao[ribeirao[\"STATUS\"] == \"Abaixo do Básico\"] #4710 pessoas (30,39) de Ribeirão  abaixo do básico\n",
        "\n",
        "ribeirao[ribeirao[\"STATUS\"] == \"Básico\"] # 6841 pessoas (44,14 %) de Ribeirão tiveram desempenho basico\n",
        "\n",
        "ribeirao[ribeirao[\"STATUS\"] == \"Adequado\"] # 3379 pessoas (21,80%) de Ribeirão tiveram desempenho adequado\n",
        "\n",
        "ribeirao[ribeirao[\"STATUS\"] == \"Avançado\"] #  567 pessoas (3,66 %) de Ribeirão tiveram desempenho avançado\n",
        "\n",
        "\n",
        "\n",
        "alunos_ribeirao = [32.09,44.78,21.15,1.98] #valores de Y\n",
        "nivel = ['Abaixo do básico' , 'Básico','Adequado','Avançado'] #valores de x\n",
        "y = [0,5,10,15,20,25,30,35,40,45,50]\n",
        "plt.bar(nivel, alunos, color=\"red\")\n",
        "plt.xticks(nivel)\n",
        "plt.yticks(y)\n",
        "plt.ylabel(\"Alunos(%)\")\n",
        "plt.xlabel(\"Desempenho\")\n",
        "plt.title(\"Desempenho SARESP 2021 - Ribeirão\")\n",
        "plt.show()"
      ],
      "metadata": {
        "colab": {
          "base_uri": "https://localhost:8080/",
          "height": 295
        },
        "id": "D1DjPl19BX8N",
        "outputId": "a4b7cf78-4287-4dc1-9062-e29663c3a9a5"
      },
      "execution_count": null,
      "outputs": [
        {
          "output_type": "display_data",
          "data": {
            "text/plain": [
              "<Figure size 432x288 with 1 Axes>"
            ],
            "image/png": "[encoded data removed]"
          },
          "metadata": {
            "needs_background": "light"
          }
        }
      ]
    },
    {
      "cell_type": "code",
      "source": [
        "#SOROCABA (19.097 pessoas)\n",
        "sorocaba = presentes[presentes[\"REGIÃO METROPOLITANA DE SÃO PAULO\"] == \"Região Metropolitana de Sorocaba\"]\n",
        "\n",
        "sorocaba.describe() #desempenho médio de 14 acertos (57%) com desvio padrão de 21\n",
        "\n",
        "plt.hist(sorocaba[\"ACERTOS (Total de questões: 24)\"],bins=45)\n",
        "plt.xlabel(\"Número de acertos\")\n",
        "plt.ylabel(\"Frequência\")\n",
        "plt.title(\"Sorocaba - acertos por número de alunos\")"
      ],
      "metadata": {
        "colab": {
          "base_uri": "https://localhost:8080/",
          "height": 312
        },
        "id": "AiDqeS68EizG",
        "outputId": "2304c84a-5b6b-495c-ff00-f1dffe7e5553"
      },
      "execution_count": null,
      "outputs": [
        {
          "output_type": "execute_result",
          "data": {
            "text/plain": [
              "Text(0.5, 1.0, 'Sorocaba - acertos por número de alunos')"
            ]
          },
          "metadata": {},
          "execution_count": 19
        },
        {
          "output_type": "display_data",
          "data": {
            "text/plain": [
              "<Figure size 432x288 with 1 Axes>"
            ],
            "image/png": "[encoded data removed]"
          },
          "metadata": {
            "needs_background": "light"
          }
        }
      ]
    },
    {
      "cell_type": "code",
      "source": [
        "print(sorocaba[sorocaba[\"STATUS\"] == \"Abaixo do Básico\"].shape) #5232 pessoas (27,40%) de Sorocaba  abaixo do básico\n",
        "\n",
        "print(sorocaba[sorocaba[\"STATUS\"] == \"Básico\"].shape) # 8863 pessoas (46,41 %) de Sorocaba tiveram desempenho basico\n",
        "\n",
        "print(sorocaba[sorocaba[\"STATUS\"] == \"Adequado\"].shape) # 4439 pessoas (23,24%) de Sorocaba tiveram desempenho adequado\n",
        "\n",
        "print(sorocaba[sorocaba[\"STATUS\"] == \"Avançado\"].shape)  #563 pessoas (2,95 %) de Sorocaba tiveram desempenho avançado\n",
        "\n",
        "\n",
        "alunos_sorocaba = [27.40  ,46.41  ,23.24  ,2.95] #valores de Y\n",
        "nivel = ['Abaixo do básico' , 'Básico','Adequado','Avançado'] #valores de x\n",
        "y = [0,5,10,15,20,25,30,35,40,45,50]\n",
        "plt.bar(nivel, alunos, color=\"black\")\n",
        "plt.xticks(nivel)\n",
        "plt.yticks(y)\n",
        "plt.ylabel(\"Alunos(%)\")\n",
        "plt.xlabel(\"Desempenho\")\n",
        "plt.title(\"Desempenho SARESP 2021 - Sorocaba\")\n",
        "plt.show()\n",
        "\n"
      ],
      "metadata": {
        "colab": {
          "base_uri": "https://localhost:8080/",
          "height": 364
        },
        "id": "t6_qZkeNFyed",
        "outputId": "b7915168-d879-4266-eb5c-f2261b9ab0d5"
      },
      "execution_count": null,
      "outputs": [
        {
          "output_type": "stream",
          "name": "stdout",
          "text": [
            "(5232, 9)\n",
            "(8863, 9)\n",
            "(4439, 9)\n",
            "(563, 9)\n"
          ]
        },
        {
          "output_type": "display_data",
          "data": {
            "text/plain": [
              "<Figure size 432x288 with 1 Axes>"
            ],
            "image/png": "[encoded data removed]"
          },
          "metadata": {
            "needs_background": "light"
          }
        }
      ]
    },
    {
      "cell_type": "code",
      "source": [
        "# VALE DO PARAIBA (23.152 pessoas)\n",
        "vale = presentes[presentes[\"REGIÃO METROPOLITANA DE SÃO PAULO\"] == \"Região Metropolitana do Vale do Paraíba e Litoral Norte\"]\n",
        "vale.describe() #Desempenho médio de 13 acertos (57,48%), com desvio padrão de 5 questões (22%)\n",
        "\n",
        "plt.hist(vale[\"ACERTOS (Total de questões: 24)\"],bins=45)\n",
        "plt.xlabel(\"Número de acertos\")\n",
        "plt.ylabel(\"Frequência\")\n",
        "plt.title(\"Vale do Paraíba e Litoral Norte - acertos por número de alunos\")"
      ],
      "metadata": {
        "colab": {
          "base_uri": "https://localhost:8080/",
          "height": 312
        },
        "id": "6yEgw72rI6Y-",
        "outputId": "23e1b12d-1a7a-48e0-ce57-863494eb7ba6"
      },
      "execution_count": null,
      "outputs": [
        {
          "output_type": "execute_result",
          "data": {
            "text/plain": [
              "Text(0.5, 1.0, 'Vale do Paraíba e Litoral Norte - acertos por número de alunos')"
            ]
          },
          "metadata": {},
          "execution_count": 17
        },
        {
          "output_type": "display_data",
          "data": {
            "text/plain": [
              "<Figure size 432x288 with 1 Axes>"
            ],
            "image/png": "[encoded data removed]"
          },
          "metadata": {
            "needs_background": "light"
          }
        }
      ]
    },
    {
      "cell_type": "code",
      "source": [
        "print(vale[vale[\"STATUS\"] == \"Abaixo do Básico\"].shape) #6474 pessoas (27,96%) tiverem desempenho abaixo do básico\n",
        "\n",
        "print(vale[vale[\"STATUS\"] == \"Básico\"].shape) # 10.119 pessoas (43,71 %) tiveram desempenho basico\n",
        "\n",
        "print(vale[vale[\"STATUS\"] == \"Adequado\"].shape) # 5597 pessoas (24,18%) tiveram desempenho adequado\n",
        "\n",
        "print(vale[vale[\"STATUS\"] == \"Avançado\"].shape)  #962 pessoas (4,16%) tiveram desempenho avançado\n",
        "\n",
        "alunos_vale =[27.96,  43.71,  24.18,  4.16]\n",
        "nivel = ['Abaixo do básico' , 'Básico','Adequado','Avançado'] #valores de x\n",
        "y = [0,5,10,15,20,25,30,35,40,45,50]\n",
        "plt.bar(nivel, alunos_vale, color=\"magenta\")\n",
        "plt.xticks(nivel)\n",
        "plt.yticks(y)\n",
        "plt.ylabel(\"Alunos(%)\")\n",
        "plt.xlabel(\"Desempenho\")\n",
        "plt.title(\"Desempenho SARESP 2021 - Vale do Paraíba e Litoral Norte\")\n",
        "plt.show()\n",
        "\n"
      ],
      "metadata": {
        "colab": {
          "base_uri": "https://localhost:8080/",
          "height": 364
        },
        "id": "Qk6itZiKLICl",
        "outputId": "e1c44048-c002-4c77-a4de-b92016a35be6"
      },
      "execution_count": null,
      "outputs": [
        {
          "output_type": "stream",
          "name": "stdout",
          "text": [
            "(6474, 9)\n",
            "(10119, 9)\n",
            "(5597, 9)\n",
            "(962, 9)\n"
          ]
        },
        {
          "output_type": "display_data",
          "data": {
            "text/plain": [
              "<Figure size 432x288 with 1 Axes>"
            ],
            "image/png": "[encoded data removed]"
          },
          "metadata": {
            "needs_background": "light"
          }
        }
      ]
    },
    {
      "cell_type": "code",
      "source": [
        "alunos_interior = [28.09,45.91,22.54,3.47]\n",
        "alunos_baixada = [32.09,44.78,21.15,1.98]\n",
        "alunos_paulista = [25.67 , 43.43 , 25.46, 5.44]\n",
        "alunos_campinas = [25.3,46.6,24.6,3.4]\n",
        "alunos_ribeirao = [30.39,44.14,21.80,3.66]\n",
        "alunos_sorocaba = [27.40, 46.41, 23.24, 2.95]\n",
        "alunos_vale =[27.96,  43.71,  24.18,  4.16]\n",
        "\n",
        "nivel = (1,9,17,25)\n",
        "nivel2 = (1.8,9.8,17.8,25.8)\n",
        "nivel3 = (2.6,10.6,18.6,26.6)\n",
        "nivel4 = (3.4,11.4,19.4,27.4)\n",
        "nivel5 = (4.2,12.2,20.2,28.2)\n",
        "nivel6 = (5,13,21,29)\n",
        "nivel7 = (5.8,13.8,21.8,29.8)\n",
        "media = (3.4 ,11.4 ,19.4 ,27.4 )\n",
        "\n",
        "plt.figure(figsize=(10,6))\n",
        "plt.title(\"Diferença de desempenho\")\n",
        "plt.ylabel(\"Percentual de alunos(%)\")\n",
        "plt.xlabel(\"Desempenho\")\n",
        "\n",
        "plt.yticks([0,5,10,15,20,25,30,35,40,45,50,55,60])\n",
        "plt.xticks(media,('Abaixo do básico' , 'Básico','Adequado','Avançado'))\n",
        "\n",
        "\n",
        "roxo = plt.bar(nivel,alunos_interior,color=\"purple\")\n",
        "azul= plt.bar(nivel2,alunos_baixada, color=\"blue\")\n",
        "preto = plt.bar(nivel3,alunos_paulista,color=\"lime\")\n",
        "amarelo = plt.bar(nivel4,alunos_campinas,color=\"orange\")\n",
        "rosa = plt.bar(nivel5,alunos_ribeirao,color=\"red\")\n",
        "ciano = plt.bar(nivel6, alunos_sorocaba,color = \"black\")\n",
        "magenta= plt.bar(nivel7,alunos_vale,color = \"magenta\")\n",
        "plt.legend(labels=['Interior','Baixada santista','São Paulo','Campinas','Ribeirão','Sorocaba','Vale Paraiba e Litoral Norte'])\n",
        "plt.figure(figsize=(10,10))\n"
      ],
      "metadata": {
        "colab": {
          "base_uri": "https://localhost:8080/",
          "height": 439
        },
        "id": "-xcHOZoyfR8L",
        "outputId": "abcdeb76-5b16-4ec2-a1b6-8be8e5e95f84"
      },
      "execution_count": null,
      "outputs": [
        {
          "output_type": "execute_result",
          "data": {
            "text/plain": [
              "<Figure size 720x720 with 0 Axes>"
            ]
          },
          "metadata": {},
          "execution_count": 86
        },
        {
          "output_type": "display_data",
          "data": {
            "text/plain": [
              "<Figure size 720x432 with 1 Axes>"
            ],
            "image/png": "[encoded data removed]"
          },
          "metadata": {
            "needs_background": "light"
          }
        },
        {
          "output_type": "display_data",
          "data": {
            "text/plain": [
              "<Figure size 720x720 with 0 Axes>"
            ]
          },
          "metadata": {}
        }
      ]
    },
    {
      "cell_type": "code",
      "source": [
        "#TOP 5 DAS REGIÕES (DESEMPENHO MÉDIO):\n",
        "# 1- São Paulo: aproveitamentento médio de 58,7%, em média 14 acertos\n",
        "# 2- Campinas: aproveitamento médio de 58,15%, em média 13,9 acertos\n",
        "# 3 -Sorocaba: aproveitamento médio de 57,1%, em média 13,7 acertos\n",
        "# 4- Interior: aproveitamento médio de 56,6% , em média 13,5 acertos\n",
        "# 5- Ribeirão Preto: aproveitamento médio de 55,7%, 13,4 acertos\n",
        "# 6- Baixada Santista: aproveitamento médio de 54,7% , média de 13 acertos\n"
      ],
      "metadata": {
        "id": "uWh5IAWWOjlX"
      },
      "execution_count": null,
      "outputs": []
    },
    {
      "cell_type": "code",
      "source": [
        "tabela[\"PERÍODO\"]"
      ],
      "metadata": {
        "id": "J_o-b29vOlpE",
        "colab": {
          "base_uri": "https://localhost:8080/"
        },
        "outputId": "2d368bde-3602-4a65-b7f7-f4cc55b247d3"
      },
      "execution_count": null,
      "outputs": [
        {
          "output_type": "execute_result",
          "data": {
            "text/plain": [
              "0         NOITE\n",
              "1         NOITE\n",
              "2         NOITE\n",
              "3         NOITE\n",
              "4         MANHÃ\n",
              "          ...  \n",
              "457910    TARDE\n",
              "457911    MANHÃ\n",
              "457912    TARDE\n",
              "457913    MANHÃ\n",
              "457914    TARDE\n",
              "Name: PERÍODO, Length: 457915, dtype: object"
            ]
          },
          "metadata": {},
          "execution_count": 20
        }
      ]
    }
  ]
}